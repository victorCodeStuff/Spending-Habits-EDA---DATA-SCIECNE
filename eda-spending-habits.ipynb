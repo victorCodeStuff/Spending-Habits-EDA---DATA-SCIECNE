{
 "cells": [
  {
   "cell_type": "code",
   "execution_count": 1,
   "id": "074f2385",
   "metadata": {
    "_cell_guid": "b1076dfc-b9ad-4769-8c92-a6c4dae69d19",
    "_uuid": "8f2839f25d086af736a60e9eeb907d3b93b6e0e5",
    "execution": {
     "iopub.execute_input": "2025-01-19T04:02:12.545421Z",
     "iopub.status.busy": "2025-01-19T04:02:12.545036Z",
     "iopub.status.idle": "2025-01-19T04:02:13.858070Z",
     "shell.execute_reply": "2025-01-19T04:02:13.856464Z"
    },
    "papermill": {
     "duration": 1.327106,
     "end_time": "2025-01-19T04:02:13.860376",
     "exception": false,
     "start_time": "2025-01-19T04:02:12.533270",
     "status": "completed"
    },
    "tags": []
   },
   "outputs": [
    {
     "name": "stdout",
     "output_type": "stream",
     "text": [
      "/kaggle/input/spending-habits/spending_patterns_detailed.csv\n"
     ]
    }
   ],
   "source": [
    "# This Python 3 environment comes with many helpful analytics libraries installed\n",
    "# It is defined by the kaggle/python Docker image: https://github.com/kaggle/docker-python\n",
    "# For example, here's several helpful packages to load\n",
    "\n",
    "import numpy as np # linear algebra\n",
    "import pandas as pd # data processing, CSV file I/O (e.g. pd.read_csv)\n",
    "\n",
    "# Input data files are available in the read-only \"../input/\" directory\n",
    "# For example, running this (by clicking run or pressing Shift+Enter) will list all files under the input directory\n",
    "\n",
    "import os\n",
    "for dirname, _, filenames in os.walk('/kaggle/input'):\n",
    "    for filename in filenames:\n",
    "        print(os.path.join(dirname, filename))\n",
    "\n",
    "# You can write up to 20GB to the current directory (/kaggle/working/) that gets preserved as output when you create a version using \"Save & Run All\" \n",
    "# You can also write temporary files to /kaggle/temp/, but they won't be saved outside of the current session"
   ]
  },
  {
   "cell_type": "markdown",
   "id": "5b0b7b33",
   "metadata": {
    "papermill": {
     "duration": 0.011013,
     "end_time": "2025-01-19T04:02:13.881990",
     "exception": false,
     "start_time": "2025-01-19T04:02:13.870977",
     "status": "completed"
    },
    "tags": []
   },
   "source": [
    "### Libraries"
   ]
  },
  {
   "cell_type": "code",
   "execution_count": 2,
   "id": "fbb4a45c",
   "metadata": {
    "execution": {
     "iopub.execute_input": "2025-01-19T04:02:13.905556Z",
     "iopub.status.busy": "2025-01-19T04:02:13.905027Z",
     "iopub.status.idle": "2025-01-19T04:02:16.687687Z",
     "shell.execute_reply": "2025-01-19T04:02:16.686214Z"
    },
    "papermill": {
     "duration": 2.796479,
     "end_time": "2025-01-19T04:02:16.689715",
     "exception": false,
     "start_time": "2025-01-19T04:02:13.893236",
     "status": "completed"
    },
    "tags": []
   },
   "outputs": [],
   "source": [
    "import matplotlib.pyplot as plt\n",
    "import seaborn as sns\n",
    "from sklearn.preprocessing import LabelEncoder"
   ]
  },
  {
   "cell_type": "markdown",
   "id": "da905d23",
   "metadata": {
    "papermill": {
     "duration": 0.01143,
     "end_time": "2025-01-19T04:02:16.711047",
     "exception": false,
     "start_time": "2025-01-19T04:02:16.699617",
     "status": "completed"
    },
    "tags": []
   },
   "source": [
    "## Hyphothesis that we will try to prove\n",
    "1. People spend more money with subscriptions than personal Hygiene\n",
    "2. More money is spent on food compared to personal groceries.\n",
    "3. People tend to take more care of their overall fitness than their own medical or dental health\n",
    "4. Credict cards are the most used payment methods\n",
    "5. People don't spend a lot of money in medical\\dental health compared to other types of expenses\n",
    "6. People don't go so often to physical stores "
   ]
  },
  {
   "cell_type": "markdown",
   "id": "9f6e8f76",
   "metadata": {
    "papermill": {
     "duration": 0.009708,
     "end_time": "2025-01-19T04:02:16.731108",
     "exception": false,
     "start_time": "2025-01-19T04:02:16.721400",
     "status": "completed"
    },
    "tags": []
   },
   "source": [
    "## Reading the data"
   ]
  },
  {
   "cell_type": "code",
   "execution_count": 3,
   "id": "9b2dc49e",
   "metadata": {
    "execution": {
     "iopub.execute_input": "2025-01-19T04:02:16.751726Z",
     "iopub.status.busy": "2025-01-19T04:02:16.751119Z",
     "iopub.status.idle": "2025-01-19T04:02:16.796875Z",
     "shell.execute_reply": "2025-01-19T04:02:16.795747Z"
    },
    "papermill": {
     "duration": 0.058507,
     "end_time": "2025-01-19T04:02:16.799066",
     "exception": false,
     "start_time": "2025-01-19T04:02:16.740559",
     "status": "completed"
    },
    "tags": []
   },
   "outputs": [],
   "source": [
    "df = pd.read_csv(\"/kaggle/input/spending-habits/spending_patterns_detailed.csv\")"
   ]
  },
  {
   "cell_type": "code",
   "execution_count": 4,
   "id": "f87130bf",
   "metadata": {
    "execution": {
     "iopub.execute_input": "2025-01-19T04:02:16.821763Z",
     "iopub.status.busy": "2025-01-19T04:02:16.821332Z",
     "iopub.status.idle": "2025-01-19T04:02:16.852156Z",
     "shell.execute_reply": "2025-01-19T04:02:16.850783Z"
    },
    "papermill": {
     "duration": 0.044894,
     "end_time": "2025-01-19T04:02:16.854257",
     "exception": false,
     "start_time": "2025-01-19T04:02:16.809363",
     "status": "completed"
    },
    "tags": []
   },
   "outputs": [
    {
     "data": {
      "text/html": [
       "<div>\n",
       "<style scoped>\n",
       "    .dataframe tbody tr th:only-of-type {\n",
       "        vertical-align: middle;\n",
       "    }\n",
       "\n",
       "    .dataframe tbody tr th {\n",
       "        vertical-align: top;\n",
       "    }\n",
       "\n",
       "    .dataframe thead th {\n",
       "        text-align: right;\n",
       "    }\n",
       "</style>\n",
       "<table border=\"1\" class=\"dataframe\">\n",
       "  <thead>\n",
       "    <tr style=\"text-align: right;\">\n",
       "      <th></th>\n",
       "      <th>Customer ID</th>\n",
       "      <th>Category</th>\n",
       "      <th>Item</th>\n",
       "      <th>Quantity</th>\n",
       "      <th>Price Per Unit</th>\n",
       "      <th>Total Spent</th>\n",
       "      <th>Payment Method</th>\n",
       "      <th>Location</th>\n",
       "      <th>Transaction Date</th>\n",
       "    </tr>\n",
       "  </thead>\n",
       "  <tbody>\n",
       "    <tr>\n",
       "      <th>0</th>\n",
       "      <td>CUST_0159</td>\n",
       "      <td>Groceries</td>\n",
       "      <td>Milk</td>\n",
       "      <td>1</td>\n",
       "      <td>1.28</td>\n",
       "      <td>1.28</td>\n",
       "      <td>Debit Card</td>\n",
       "      <td>Mobile App</td>\n",
       "      <td>2024-11-13</td>\n",
       "    </tr>\n",
       "    <tr>\n",
       "      <th>1</th>\n",
       "      <td>CUST_0017</td>\n",
       "      <td>Friend Activities</td>\n",
       "      <td>Dinner with Friends</td>\n",
       "      <td>2</td>\n",
       "      <td>74.69</td>\n",
       "      <td>149.39</td>\n",
       "      <td>Debit Card</td>\n",
       "      <td>In-store</td>\n",
       "      <td>2023-05-04</td>\n",
       "    </tr>\n",
       "    <tr>\n",
       "      <th>2</th>\n",
       "      <td>CUST_0094</td>\n",
       "      <td>Housing and Utilities</td>\n",
       "      <td>Water Bill</td>\n",
       "      <td>1</td>\n",
       "      <td>76.06</td>\n",
       "      <td>76.06</td>\n",
       "      <td>Digital Wallet</td>\n",
       "      <td>Mobile App</td>\n",
       "      <td>2023-12-16</td>\n",
       "    </tr>\n",
       "    <tr>\n",
       "      <th>3</th>\n",
       "      <td>CUST_0162</td>\n",
       "      <td>Fitness</td>\n",
       "      <td>Yoga Class</td>\n",
       "      <td>5</td>\n",
       "      <td>11.24</td>\n",
       "      <td>56.18</td>\n",
       "      <td>Cash</td>\n",
       "      <td>In-store</td>\n",
       "      <td>2024-01-28</td>\n",
       "    </tr>\n",
       "    <tr>\n",
       "      <th>4</th>\n",
       "      <td>CUST_0129</td>\n",
       "      <td>Gifts</td>\n",
       "      <td>Flowers</td>\n",
       "      <td>3</td>\n",
       "      <td>43.71</td>\n",
       "      <td>131.12</td>\n",
       "      <td>Debit Card</td>\n",
       "      <td>In-store</td>\n",
       "      <td>2023-07-28</td>\n",
       "    </tr>\n",
       "  </tbody>\n",
       "</table>\n",
       "</div>"
      ],
      "text/plain": [
       "  Customer ID               Category                 Item  Quantity  \\\n",
       "0   CUST_0159              Groceries                 Milk         1   \n",
       "1   CUST_0017      Friend Activities  Dinner with Friends         2   \n",
       "2   CUST_0094  Housing and Utilities           Water Bill         1   \n",
       "3   CUST_0162                Fitness           Yoga Class         5   \n",
       "4   CUST_0129                  Gifts              Flowers         3   \n",
       "\n",
       "   Price Per Unit  Total Spent  Payment Method    Location Transaction Date  \n",
       "0            1.28         1.28      Debit Card  Mobile App       2024-11-13  \n",
       "1           74.69       149.39      Debit Card    In-store       2023-05-04  \n",
       "2           76.06        76.06  Digital Wallet  Mobile App       2023-12-16  \n",
       "3           11.24        56.18            Cash    In-store       2024-01-28  \n",
       "4           43.71       131.12      Debit Card    In-store       2023-07-28  "
      ]
     },
     "execution_count": 4,
     "metadata": {},
     "output_type": "execute_result"
    }
   ],
   "source": [
    "df.head()"
   ]
  },
  {
   "cell_type": "code",
   "execution_count": 5,
   "id": "80be8f5c",
   "metadata": {
    "execution": {
     "iopub.execute_input": "2025-01-19T04:02:16.879627Z",
     "iopub.status.busy": "2025-01-19T04:02:16.879227Z",
     "iopub.status.idle": "2025-01-19T04:02:16.892867Z",
     "shell.execute_reply": "2025-01-19T04:02:16.891828Z"
    },
    "papermill": {
     "duration": 0.027201,
     "end_time": "2025-01-19T04:02:16.894678",
     "exception": false,
     "start_time": "2025-01-19T04:02:16.867477",
     "status": "completed"
    },
    "tags": []
   },
   "outputs": [
    {
     "data": {
      "text/html": [
       "<div>\n",
       "<style scoped>\n",
       "    .dataframe tbody tr th:only-of-type {\n",
       "        vertical-align: middle;\n",
       "    }\n",
       "\n",
       "    .dataframe tbody tr th {\n",
       "        vertical-align: top;\n",
       "    }\n",
       "\n",
       "    .dataframe thead th {\n",
       "        text-align: right;\n",
       "    }\n",
       "</style>\n",
       "<table border=\"1\" class=\"dataframe\">\n",
       "  <thead>\n",
       "    <tr style=\"text-align: right;\">\n",
       "      <th></th>\n",
       "      <th>Customer ID</th>\n",
       "      <th>Category</th>\n",
       "      <th>Item</th>\n",
       "      <th>Quantity</th>\n",
       "      <th>Price Per Unit</th>\n",
       "      <th>Total Spent</th>\n",
       "      <th>Payment Method</th>\n",
       "      <th>Location</th>\n",
       "      <th>Transaction Date</th>\n",
       "    </tr>\n",
       "  </thead>\n",
       "  <tbody>\n",
       "    <tr>\n",
       "      <th>9995</th>\n",
       "      <td>CUST_0072</td>\n",
       "      <td>Housing and Utilities</td>\n",
       "      <td>Water Bill</td>\n",
       "      <td>1</td>\n",
       "      <td>69.46</td>\n",
       "      <td>69.46</td>\n",
       "      <td>Debit Card</td>\n",
       "      <td>Online</td>\n",
       "      <td>2023-09-01</td>\n",
       "    </tr>\n",
       "    <tr>\n",
       "      <th>9996</th>\n",
       "      <td>CUST_0150</td>\n",
       "      <td>Groceries</td>\n",
       "      <td>Snacks</td>\n",
       "      <td>5</td>\n",
       "      <td>15.54</td>\n",
       "      <td>77.70</td>\n",
       "      <td>Debit Card</td>\n",
       "      <td>In-store</td>\n",
       "      <td>2024-06-27</td>\n",
       "    </tr>\n",
       "    <tr>\n",
       "      <th>9997</th>\n",
       "      <td>CUST_0122</td>\n",
       "      <td>Shopping</td>\n",
       "      <td>Electronics</td>\n",
       "      <td>1</td>\n",
       "      <td>732.03</td>\n",
       "      <td>732.03</td>\n",
       "      <td>Debit Card</td>\n",
       "      <td>In-store</td>\n",
       "      <td>2024-03-19</td>\n",
       "    </tr>\n",
       "    <tr>\n",
       "      <th>9998</th>\n",
       "      <td>CUST_0133</td>\n",
       "      <td>Transportation</td>\n",
       "      <td>Car Repair</td>\n",
       "      <td>1</td>\n",
       "      <td>107.63</td>\n",
       "      <td>107.63</td>\n",
       "      <td>Debit Card</td>\n",
       "      <td>Mobile App</td>\n",
       "      <td>2024-10-17</td>\n",
       "    </tr>\n",
       "    <tr>\n",
       "      <th>9999</th>\n",
       "      <td>CUST_0058</td>\n",
       "      <td>Housing and Utilities</td>\n",
       "      <td>Gas Bill</td>\n",
       "      <td>1</td>\n",
       "      <td>98.79</td>\n",
       "      <td>98.79</td>\n",
       "      <td>Credit Card</td>\n",
       "      <td>Mobile App</td>\n",
       "      <td>2024-08-04</td>\n",
       "    </tr>\n",
       "  </tbody>\n",
       "</table>\n",
       "</div>"
      ],
      "text/plain": [
       "     Customer ID               Category         Item  Quantity  \\\n",
       "9995   CUST_0072  Housing and Utilities   Water Bill         1   \n",
       "9996   CUST_0150              Groceries       Snacks         5   \n",
       "9997   CUST_0122               Shopping  Electronics         1   \n",
       "9998   CUST_0133         Transportation   Car Repair         1   \n",
       "9999   CUST_0058  Housing and Utilities     Gas Bill         1   \n",
       "\n",
       "      Price Per Unit  Total Spent Payment Method    Location Transaction Date  \n",
       "9995           69.46        69.46     Debit Card      Online       2023-09-01  \n",
       "9996           15.54        77.70     Debit Card    In-store       2024-06-27  \n",
       "9997          732.03       732.03     Debit Card    In-store       2024-03-19  \n",
       "9998          107.63       107.63     Debit Card  Mobile App       2024-10-17  \n",
       "9999           98.79        98.79    Credit Card  Mobile App       2024-08-04  "
      ]
     },
     "execution_count": 5,
     "metadata": {},
     "output_type": "execute_result"
    }
   ],
   "source": [
    "df.tail()"
   ]
  },
  {
   "cell_type": "code",
   "execution_count": 6,
   "id": "f133ede5",
   "metadata": {
    "execution": {
     "iopub.execute_input": "2025-01-19T04:02:16.918036Z",
     "iopub.status.busy": "2025-01-19T04:02:16.917675Z",
     "iopub.status.idle": "2025-01-19T04:02:16.925590Z",
     "shell.execute_reply": "2025-01-19T04:02:16.923956Z"
    },
    "papermill": {
     "duration": 0.022828,
     "end_time": "2025-01-19T04:02:16.927679",
     "exception": false,
     "start_time": "2025-01-19T04:02:16.904851",
     "status": "completed"
    },
    "tags": []
   },
   "outputs": [
    {
     "data": {
      "text/plain": [
       "Customer ID          object\n",
       "Category             object\n",
       "Item                 object\n",
       "Quantity              int64\n",
       "Price Per Unit      float64\n",
       "Total Spent         float64\n",
       "Payment Method       object\n",
       "Location             object\n",
       "Transaction Date     object\n",
       "dtype: object"
      ]
     },
     "execution_count": 6,
     "metadata": {},
     "output_type": "execute_result"
    }
   ],
   "source": [
    "df.dtypes"
   ]
  },
  {
   "cell_type": "code",
   "execution_count": 7,
   "id": "fb24382d",
   "metadata": {
    "execution": {
     "iopub.execute_input": "2025-01-19T04:02:16.950226Z",
     "iopub.status.busy": "2025-01-19T04:02:16.949880Z",
     "iopub.status.idle": "2025-01-19T04:02:16.956923Z",
     "shell.execute_reply": "2025-01-19T04:02:16.955661Z"
    },
    "papermill": {
     "duration": 0.021011,
     "end_time": "2025-01-19T04:02:16.958865",
     "exception": false,
     "start_time": "2025-01-19T04:02:16.937854",
     "status": "completed"
    },
    "tags": []
   },
   "outputs": [
    {
     "data": {
      "text/plain": [
       "Index(['Customer ID', 'Category', 'Item', 'Quantity', 'Price Per Unit',\n",
       "       'Total Spent', 'Payment Method', 'Location', 'Transaction Date'],\n",
       "      dtype='object')"
      ]
     },
     "execution_count": 7,
     "metadata": {},
     "output_type": "execute_result"
    }
   ],
   "source": [
    "df.columns"
   ]
  },
  {
   "cell_type": "code",
   "execution_count": 8,
   "id": "ffd765ea",
   "metadata": {
    "execution": {
     "iopub.execute_input": "2025-01-19T04:02:16.982599Z",
     "iopub.status.busy": "2025-01-19T04:02:16.982208Z",
     "iopub.status.idle": "2025-01-19T04:02:16.993922Z",
     "shell.execute_reply": "2025-01-19T04:02:16.992755Z"
    },
    "papermill": {
     "duration": 0.026324,
     "end_time": "2025-01-19T04:02:16.996283",
     "exception": false,
     "start_time": "2025-01-19T04:02:16.969959",
     "status": "completed"
    },
    "tags": []
   },
   "outputs": [
    {
     "data": {
      "text/plain": [
       "array(['Groceries', 'Friend Activities', 'Housing and Utilities',\n",
       "       'Fitness', 'Gifts', 'Transportation', 'Travel', 'Personal Hygiene',\n",
       "       'Hobbies', 'Shopping', 'Medical/Dental', 'Food', 'Subscriptions'],\n",
       "      dtype=object)"
      ]
     },
     "execution_count": 8,
     "metadata": {},
     "output_type": "execute_result"
    }
   ],
   "source": [
    "df[\"Category\"].unique()"
   ]
  },
  {
   "cell_type": "code",
   "execution_count": 9,
   "id": "e44d0782",
   "metadata": {
    "execution": {
     "iopub.execute_input": "2025-01-19T04:02:17.021366Z",
     "iopub.status.busy": "2025-01-19T04:02:17.021013Z",
     "iopub.status.idle": "2025-01-19T04:02:17.028720Z",
     "shell.execute_reply": "2025-01-19T04:02:17.027555Z"
    },
    "papermill": {
     "duration": 0.022565,
     "end_time": "2025-01-19T04:02:17.030560",
     "exception": false,
     "start_time": "2025-01-19T04:02:17.007995",
     "status": "completed"
    },
    "tags": []
   },
   "outputs": [
    {
     "data": {
      "text/plain": [
       "array(['Milk', 'Dinner with Friends', 'Water Bill', 'Yoga Class',\n",
       "       'Flowers', 'Car Repair', 'Personal Trainer', 'Plane Ticket',\n",
       "       'Kids Games', 'Bread', 'Toothpaste', 'Crochet Supplies',\n",
       "       'Gas Bill', 'Jewelry', 'Car', 'Shoes', 'Dentist Visit', 'Chicken',\n",
       "       'Clothes', 'Snacks', 'Fast Food', 'Restaurant Meal', 'Taxi/Uber',\n",
       "       'Doctor Visit', 'Public Transit', 'Medicine', 'Vegetables', 'Gas',\n",
       "       'Streaming Service', 'Shampoo', 'Electricity Bill',\n",
       "       'Skin Care Products', 'Coffee', 'Art Supplies', 'Magazine',\n",
       "       'Movie Tickets', 'Workout Equipment', 'Meat', 'Rent',\n",
       "       'Concert Tickets', 'Gift Cards', 'Hotel Stay', 'Soap', 'Books',\n",
       "       'Electronics', 'Fruits', 'Gym Membership', 'Video Games'],\n",
       "      dtype=object)"
      ]
     },
     "execution_count": 9,
     "metadata": {},
     "output_type": "execute_result"
    }
   ],
   "source": [
    "df[\"Item\"].unique()"
   ]
  },
  {
   "cell_type": "code",
   "execution_count": 10,
   "id": "34b6258c",
   "metadata": {
    "execution": {
     "iopub.execute_input": "2025-01-19T04:02:17.053742Z",
     "iopub.status.busy": "2025-01-19T04:02:17.053292Z",
     "iopub.status.idle": "2025-01-19T04:02:17.072499Z",
     "shell.execute_reply": "2025-01-19T04:02:17.071322Z"
    },
    "papermill": {
     "duration": 0.032881,
     "end_time": "2025-01-19T04:02:17.074620",
     "exception": false,
     "start_time": "2025-01-19T04:02:17.041739",
     "status": "completed"
    },
    "tags": []
   },
   "outputs": [
    {
     "data": {
      "text/plain": [
       "Customer ID          200\n",
       "Category              13\n",
       "Item                  48\n",
       "Quantity               5\n",
       "Price Per Unit      7473\n",
       "Total Spent         8382\n",
       "Payment Method         4\n",
       "Location               3\n",
       "Transaction Date     744\n",
       "dtype: int64"
      ]
     },
     "execution_count": 10,
     "metadata": {},
     "output_type": "execute_result"
    }
   ],
   "source": [
    "df.nunique()"
   ]
  },
  {
   "cell_type": "markdown",
   "id": "9aa29275",
   "metadata": {
    "papermill": {
     "duration": 0.010631,
     "end_time": "2025-01-19T04:02:17.096137",
     "exception": false,
     "start_time": "2025-01-19T04:02:17.085506",
     "status": "completed"
    },
    "tags": []
   },
   "source": [
    "## Data Cleaning and Preparation\n",
    "What we are gonna do:\n",
    "\n",
    " 1. Which columns are relevant or irrelevant to us?\n",
    "    \n",
    " 2. Do we have duplicates inside our dataset?\n",
    "\n",
    " 3. Handle Missing or null values\n",
    "    \n",
    " 4. Creating Features"
   ]
  },
  {
   "cell_type": "markdown",
   "id": "35e2b53b",
   "metadata": {
    "execution": {
     "iopub.execute_input": "2025-01-17T00:42:30.819752Z",
     "iopub.status.busy": "2025-01-17T00:42:30.819381Z",
     "iopub.status.idle": "2025-01-17T00:42:30.827536Z",
     "shell.execute_reply": "2025-01-17T00:42:30.825651Z",
     "shell.execute_reply.started": "2025-01-17T00:42:30.819725Z"
    },
    "papermill": {
     "duration": 0.011912,
     "end_time": "2025-01-19T04:02:17.120406",
     "exception": false,
     "start_time": "2025-01-19T04:02:17.108494",
     "status": "completed"
    },
    "tags": []
   },
   "source": [
    "I will retain the following columns: Category, Quantity, Total Spent, Payment Method, and Location.\n",
    "\n",
    "The following columns will not be used: Customer ID, Item, Price Per Unit, and Transaction Date, for the reasons below:\n",
    "\n",
    "- Customer ID: The specific identification of each customer is not necessary.\n",
    "- Item: The Category column already provides sufficient information about the type of item.\n",
    "- Price Per Unit: We are not interested in the individual unit prices.\n",
    "- Transaction Date: This information is not relevant to our analysis."
   ]
  },
  {
   "cell_type": "code",
   "execution_count": 11,
   "id": "359ed550",
   "metadata": {
    "execution": {
     "iopub.execute_input": "2025-01-19T04:02:17.143000Z",
     "iopub.status.busy": "2025-01-19T04:02:17.142641Z",
     "iopub.status.idle": "2025-01-19T04:02:17.164703Z",
     "shell.execute_reply": "2025-01-19T04:02:17.163297Z"
    },
    "papermill": {
     "duration": 0.035701,
     "end_time": "2025-01-19T04:02:17.166752",
     "exception": false,
     "start_time": "2025-01-19T04:02:17.131051",
     "status": "completed"
    },
    "tags": []
   },
   "outputs": [],
   "source": [
    "df = df[['Customer ID' ,'Category',  'Quantity','Total Spent', 'Payment Method', 'Location']].copy()"
   ]
  },
  {
   "cell_type": "code",
   "execution_count": 12,
   "id": "a81159f6",
   "metadata": {
    "execution": {
     "iopub.execute_input": "2025-01-19T04:02:17.189235Z",
     "iopub.status.busy": "2025-01-19T04:02:17.188888Z",
     "iopub.status.idle": "2025-01-19T04:02:17.201040Z",
     "shell.execute_reply": "2025-01-19T04:02:17.199773Z"
    },
    "papermill": {
     "duration": 0.025209,
     "end_time": "2025-01-19T04:02:17.202868",
     "exception": false,
     "start_time": "2025-01-19T04:02:17.177659",
     "status": "completed"
    },
    "tags": []
   },
   "outputs": [
    {
     "data": {
      "text/html": [
       "<div>\n",
       "<style scoped>\n",
       "    .dataframe tbody tr th:only-of-type {\n",
       "        vertical-align: middle;\n",
       "    }\n",
       "\n",
       "    .dataframe tbody tr th {\n",
       "        vertical-align: top;\n",
       "    }\n",
       "\n",
       "    .dataframe thead th {\n",
       "        text-align: right;\n",
       "    }\n",
       "</style>\n",
       "<table border=\"1\" class=\"dataframe\">\n",
       "  <thead>\n",
       "    <tr style=\"text-align: right;\">\n",
       "      <th></th>\n",
       "      <th>Customer ID</th>\n",
       "      <th>Category</th>\n",
       "      <th>Quantity</th>\n",
       "      <th>Total Spent</th>\n",
       "      <th>Payment Method</th>\n",
       "      <th>Location</th>\n",
       "    </tr>\n",
       "  </thead>\n",
       "  <tbody>\n",
       "    <tr>\n",
       "      <th>0</th>\n",
       "      <td>CUST_0159</td>\n",
       "      <td>Groceries</td>\n",
       "      <td>1</td>\n",
       "      <td>1.28</td>\n",
       "      <td>Debit Card</td>\n",
       "      <td>Mobile App</td>\n",
       "    </tr>\n",
       "    <tr>\n",
       "      <th>1</th>\n",
       "      <td>CUST_0017</td>\n",
       "      <td>Friend Activities</td>\n",
       "      <td>2</td>\n",
       "      <td>149.39</td>\n",
       "      <td>Debit Card</td>\n",
       "      <td>In-store</td>\n",
       "    </tr>\n",
       "    <tr>\n",
       "      <th>2</th>\n",
       "      <td>CUST_0094</td>\n",
       "      <td>Housing and Utilities</td>\n",
       "      <td>1</td>\n",
       "      <td>76.06</td>\n",
       "      <td>Digital Wallet</td>\n",
       "      <td>Mobile App</td>\n",
       "    </tr>\n",
       "    <tr>\n",
       "      <th>3</th>\n",
       "      <td>CUST_0162</td>\n",
       "      <td>Fitness</td>\n",
       "      <td>5</td>\n",
       "      <td>56.18</td>\n",
       "      <td>Cash</td>\n",
       "      <td>In-store</td>\n",
       "    </tr>\n",
       "    <tr>\n",
       "      <th>4</th>\n",
       "      <td>CUST_0129</td>\n",
       "      <td>Gifts</td>\n",
       "      <td>3</td>\n",
       "      <td>131.12</td>\n",
       "      <td>Debit Card</td>\n",
       "      <td>In-store</td>\n",
       "    </tr>\n",
       "  </tbody>\n",
       "</table>\n",
       "</div>"
      ],
      "text/plain": [
       "  Customer ID               Category  Quantity  Total Spent  Payment Method  \\\n",
       "0   CUST_0159              Groceries         1         1.28      Debit Card   \n",
       "1   CUST_0017      Friend Activities         2       149.39      Debit Card   \n",
       "2   CUST_0094  Housing and Utilities         1        76.06  Digital Wallet   \n",
       "3   CUST_0162                Fitness         5        56.18            Cash   \n",
       "4   CUST_0129                  Gifts         3       131.12      Debit Card   \n",
       "\n",
       "     Location  \n",
       "0  Mobile App  \n",
       "1    In-store  \n",
       "2  Mobile App  \n",
       "3    In-store  \n",
       "4    In-store  "
      ]
     },
     "execution_count": 12,
     "metadata": {},
     "output_type": "execute_result"
    }
   ],
   "source": [
    "df.head()"
   ]
  },
  {
   "cell_type": "markdown",
   "id": "0d9f33a7",
   "metadata": {
    "execution": {
     "iopub.execute_input": "2025-01-17T23:05:37.333764Z",
     "iopub.status.busy": "2025-01-17T23:05:37.333305Z",
     "iopub.status.idle": "2025-01-17T23:05:37.340465Z",
     "shell.execute_reply": "2025-01-17T23:05:37.338749Z",
     "shell.execute_reply.started": "2025-01-17T23:05:37.333723Z"
    },
    "papermill": {
     "duration": 0.010693,
     "end_time": "2025-01-19T04:02:17.225455",
     "exception": false,
     "start_time": "2025-01-19T04:02:17.214762",
     "status": "completed"
    },
    "tags": []
   },
   "source": [
    "Much more cleaner, now we can work properly"
   ]
  },
  {
   "cell_type": "markdown",
   "id": "d8d0be23",
   "metadata": {
    "papermill": {
     "duration": 0.010462,
     "end_time": "2025-01-19T04:02:17.247359",
     "exception": false,
     "start_time": "2025-01-19T04:02:17.236897",
     "status": "completed"
    },
    "tags": []
   },
   "source": [
    "Duplicated Values"
   ]
  },
  {
   "cell_type": "code",
   "execution_count": 13,
   "id": "369c3103",
   "metadata": {
    "execution": {
     "iopub.execute_input": "2025-01-19T04:02:17.270051Z",
     "iopub.status.busy": "2025-01-19T04:02:17.269682Z",
     "iopub.status.idle": "2025-01-19T04:02:17.282646Z",
     "shell.execute_reply": "2025-01-19T04:02:17.281272Z"
    },
    "papermill": {
     "duration": 0.02674,
     "end_time": "2025-01-19T04:02:17.284686",
     "exception": false,
     "start_time": "2025-01-19T04:02:17.257946",
     "status": "completed"
    },
    "tags": []
   },
   "outputs": [
    {
     "name": "stdout",
     "output_type": "stream",
     "text": [
      "Customer ID         0\n",
      "Category            0\n",
      "Quantity            0\n",
      "Total Spent       0.0\n",
      "Payment Method      0\n",
      "Location            0\n",
      "dtype: object\n"
     ]
    }
   ],
   "source": [
    "duplicateRows = df[df.duplicated()]\n",
    "print(duplicateRows.sum())"
   ]
  },
  {
   "cell_type": "markdown",
   "id": "a658b9ce",
   "metadata": {
    "papermill": {
     "duration": 0.010611,
     "end_time": "2025-01-19T04:02:17.307829",
     "exception": false,
     "start_time": "2025-01-19T04:02:17.297218",
     "status": "completed"
    },
    "tags": []
   },
   "source": [
    "Lets see the null values"
   ]
  },
  {
   "cell_type": "code",
   "execution_count": 14,
   "id": "9b3c3e17",
   "metadata": {
    "execution": {
     "iopub.execute_input": "2025-01-19T04:02:17.330525Z",
     "iopub.status.busy": "2025-01-19T04:02:17.330191Z",
     "iopub.status.idle": "2025-01-19T04:02:17.340953Z",
     "shell.execute_reply": "2025-01-19T04:02:17.339512Z"
    },
    "papermill": {
     "duration": 0.024355,
     "end_time": "2025-01-19T04:02:17.342970",
     "exception": false,
     "start_time": "2025-01-19T04:02:17.318615",
     "status": "completed"
    },
    "tags": []
   },
   "outputs": [
    {
     "data": {
      "text/plain": [
       "Customer ID       0\n",
       "Category          0\n",
       "Quantity          0\n",
       "Total Spent       0\n",
       "Payment Method    0\n",
       "Location          0\n",
       "dtype: int64"
      ]
     },
     "execution_count": 14,
     "metadata": {},
     "output_type": "execute_result"
    }
   ],
   "source": [
    "df.isnull().sum()"
   ]
  },
  {
   "cell_type": "markdown",
   "id": "2ef355ca",
   "metadata": {
    "execution": {
     "iopub.execute_input": "2025-01-17T23:05:48.252585Z",
     "iopub.status.busy": "2025-01-17T23:05:48.252241Z",
     "iopub.status.idle": "2025-01-17T23:05:48.258739Z",
     "shell.execute_reply": "2025-01-17T23:05:48.257205Z",
     "shell.execute_reply.started": "2025-01-17T23:05:48.252550Z"
    },
    "papermill": {
     "duration": 0.010812,
     "end_time": "2025-01-19T04:02:17.364835",
     "exception": false,
     "start_time": "2025-01-19T04:02:17.354023",
     "status": "completed"
    },
    "tags": []
   },
   "source": [
    "Endoding categoriacal variables to numerical "
   ]
  },
  {
   "cell_type": "markdown",
   "id": "f3d7bcf3",
   "metadata": {
    "papermill": {
     "duration": 0.010936,
     "end_time": "2025-01-19T04:02:17.387523",
     "exception": false,
     "start_time": "2025-01-19T04:02:17.376587",
     "status": "completed"
    },
    "tags": []
   },
   "source": [
    "Which data do we need to label?"
   ]
  },
  {
   "cell_type": "code",
   "execution_count": 15,
   "id": "9a5a21f6",
   "metadata": {
    "execution": {
     "iopub.execute_input": "2025-01-19T04:02:17.410170Z",
     "iopub.status.busy": "2025-01-19T04:02:17.409780Z",
     "iopub.status.idle": "2025-01-19T04:02:17.425046Z",
     "shell.execute_reply": "2025-01-19T04:02:17.423917Z"
    },
    "papermill": {
     "duration": 0.028939,
     "end_time": "2025-01-19T04:02:17.427108",
     "exception": false,
     "start_time": "2025-01-19T04:02:17.398169",
     "status": "completed"
    },
    "tags": []
   },
   "outputs": [
    {
     "data": {
      "text/html": [
       "<div>\n",
       "<style scoped>\n",
       "    .dataframe tbody tr th:only-of-type {\n",
       "        vertical-align: middle;\n",
       "    }\n",
       "\n",
       "    .dataframe tbody tr th {\n",
       "        vertical-align: top;\n",
       "    }\n",
       "\n",
       "    .dataframe thead th {\n",
       "        text-align: right;\n",
       "    }\n",
       "</style>\n",
       "<table border=\"1\" class=\"dataframe\">\n",
       "  <thead>\n",
       "    <tr style=\"text-align: right;\">\n",
       "      <th></th>\n",
       "      <th>Customer ID</th>\n",
       "      <th>Category</th>\n",
       "      <th>Quantity</th>\n",
       "      <th>Total Spent</th>\n",
       "      <th>Payment Method</th>\n",
       "      <th>Location</th>\n",
       "    </tr>\n",
       "  </thead>\n",
       "  <tbody>\n",
       "    <tr>\n",
       "      <th>0</th>\n",
       "      <td>CUST_0159</td>\n",
       "      <td>Groceries</td>\n",
       "      <td>1</td>\n",
       "      <td>1.28</td>\n",
       "      <td>Debit Card</td>\n",
       "      <td>Mobile App</td>\n",
       "    </tr>\n",
       "    <tr>\n",
       "      <th>1</th>\n",
       "      <td>CUST_0017</td>\n",
       "      <td>Friend Activities</td>\n",
       "      <td>2</td>\n",
       "      <td>149.39</td>\n",
       "      <td>Debit Card</td>\n",
       "      <td>In-store</td>\n",
       "    </tr>\n",
       "    <tr>\n",
       "      <th>2</th>\n",
       "      <td>CUST_0094</td>\n",
       "      <td>Housing and Utilities</td>\n",
       "      <td>1</td>\n",
       "      <td>76.06</td>\n",
       "      <td>Digital Wallet</td>\n",
       "      <td>Mobile App</td>\n",
       "    </tr>\n",
       "    <tr>\n",
       "      <th>3</th>\n",
       "      <td>CUST_0162</td>\n",
       "      <td>Fitness</td>\n",
       "      <td>5</td>\n",
       "      <td>56.18</td>\n",
       "      <td>Cash</td>\n",
       "      <td>In-store</td>\n",
       "    </tr>\n",
       "    <tr>\n",
       "      <th>4</th>\n",
       "      <td>CUST_0129</td>\n",
       "      <td>Gifts</td>\n",
       "      <td>3</td>\n",
       "      <td>131.12</td>\n",
       "      <td>Debit Card</td>\n",
       "      <td>In-store</td>\n",
       "    </tr>\n",
       "  </tbody>\n",
       "</table>\n",
       "</div>"
      ],
      "text/plain": [
       "  Customer ID               Category  Quantity  Total Spent  Payment Method  \\\n",
       "0   CUST_0159              Groceries         1         1.28      Debit Card   \n",
       "1   CUST_0017      Friend Activities         2       149.39      Debit Card   \n",
       "2   CUST_0094  Housing and Utilities         1        76.06  Digital Wallet   \n",
       "3   CUST_0162                Fitness         5        56.18            Cash   \n",
       "4   CUST_0129                  Gifts         3       131.12      Debit Card   \n",
       "\n",
       "     Location  \n",
       "0  Mobile App  \n",
       "1    In-store  \n",
       "2  Mobile App  \n",
       "3    In-store  \n",
       "4    In-store  "
      ]
     },
     "execution_count": 15,
     "metadata": {},
     "output_type": "execute_result"
    }
   ],
   "source": [
    "df.head()"
   ]
  },
  {
   "cell_type": "markdown",
   "id": "500859ed",
   "metadata": {
    "papermill": {
     "duration": 0.010346,
     "end_time": "2025-01-19T04:02:17.449010",
     "exception": false,
     "start_time": "2025-01-19T04:02:17.438664",
     "status": "completed"
    },
    "tags": []
   },
   "source": [
    "category, payment method and location are categorical so we need to label them"
   ]
  },
  {
   "cell_type": "code",
   "execution_count": 16,
   "id": "a9fd12ef",
   "metadata": {
    "execution": {
     "iopub.execute_input": "2025-01-19T04:02:17.472850Z",
     "iopub.status.busy": "2025-01-19T04:02:17.472415Z",
     "iopub.status.idle": "2025-01-19T04:02:17.477986Z",
     "shell.execute_reply": "2025-01-19T04:02:17.476143Z"
    },
    "papermill": {
     "duration": 0.020275,
     "end_time": "2025-01-19T04:02:17.480019",
     "exception": false,
     "start_time": "2025-01-19T04:02:17.459744",
     "status": "completed"
    },
    "tags": []
   },
   "outputs": [],
   "source": [
    "features_label = [ 'Category', 'Payment Method', 'Location']"
   ]
  },
  {
   "cell_type": "code",
   "execution_count": 17,
   "id": "1a47529d",
   "metadata": {
    "execution": {
     "iopub.execute_input": "2025-01-19T04:02:17.503049Z",
     "iopub.status.busy": "2025-01-19T04:02:17.502659Z",
     "iopub.status.idle": "2025-01-19T04:02:17.510150Z",
     "shell.execute_reply": "2025-01-19T04:02:17.509028Z"
    },
    "papermill": {
     "duration": 0.021004,
     "end_time": "2025-01-19T04:02:17.511960",
     "exception": false,
     "start_time": "2025-01-19T04:02:17.490956",
     "status": "completed"
    },
    "tags": []
   },
   "outputs": [
    {
     "data": {
      "text/plain": [
       "0           Debit Card\n",
       "1           Debit Card\n",
       "2       Digital Wallet\n",
       "3                 Cash\n",
       "4           Debit Card\n",
       "             ...      \n",
       "9995        Debit Card\n",
       "9996        Debit Card\n",
       "9997        Debit Card\n",
       "9998        Debit Card\n",
       "9999       Credit Card\n",
       "Name: Payment Method, Length: 10000, dtype: object"
      ]
     },
     "execution_count": 17,
     "metadata": {},
     "output_type": "execute_result"
    }
   ],
   "source": [
    "df[\"Payment Method\"]"
   ]
  },
  {
   "cell_type": "code",
   "execution_count": 18,
   "id": "08dfc963",
   "metadata": {
    "execution": {
     "iopub.execute_input": "2025-01-19T04:02:17.536803Z",
     "iopub.status.busy": "2025-01-19T04:02:17.536262Z",
     "iopub.status.idle": "2025-01-19T04:02:17.555481Z",
     "shell.execute_reply": "2025-01-19T04:02:17.554378Z"
    },
    "papermill": {
     "duration": 0.033803,
     "end_time": "2025-01-19T04:02:17.557491",
     "exception": false,
     "start_time": "2025-01-19T04:02:17.523688",
     "status": "completed"
    },
    "tags": []
   },
   "outputs": [
    {
     "name": "stdout",
     "output_type": "stream",
     "text": [
      "Mappings for column 'Category':\n",
      "'Fitness' -> 0\n",
      "'Food' -> 1\n",
      "'Friend Activities' -> 2\n",
      "'Gifts' -> 3\n",
      "'Groceries' -> 4\n",
      "'Hobbies' -> 5\n",
      "'Housing and Utilities' -> 6\n",
      "'Medical/Dental' -> 7\n",
      "'Personal Hygiene' -> 8\n",
      "'Shopping' -> 9\n",
      "'Subscriptions' -> 10\n",
      "'Transportation' -> 11\n",
      "'Travel' -> 12\n",
      "\n",
      "\n",
      "Mappings for column 'Payment Method':\n",
      "'Cash' -> 0\n",
      "'Credit Card' -> 1\n",
      "'Debit Card' -> 2\n",
      "'Digital Wallet' -> 3\n",
      "\n",
      "\n",
      "Mappings for column 'Location':\n",
      "'In-store' -> 0\n",
      "'Mobile App' -> 1\n",
      "'Online' -> 2\n",
      "\n",
      "\n"
     ]
    }
   ],
   "source": [
    "mappings = {}\n",
    "for col in features_label:\n",
    "    label = LabelEncoder()\n",
    "    df[col] = label.fit_transform(df[col])\n",
    "    label_mapping = dict(zip(label.classes_, label.transform(label.classes_)))\n",
    "    mappings[col] = label_mapping\n",
    "\n",
    "for col, label_mapping in mappings.items():\n",
    "    print(f\"Mappings for column '{col}':\")\n",
    "    for original_value, label_value in label_mapping.items():\n",
    "        print(f\"'{original_value}' -> {label_value}\")\n",
    "    print(\"\\n\")\n"
   ]
  },
  {
   "cell_type": "markdown",
   "id": "cc585238",
   "metadata": {
    "papermill": {
     "duration": 0.01219,
     "end_time": "2025-01-19T04:02:17.581387",
     "exception": false,
     "start_time": "2025-01-19T04:02:17.569197",
     "status": "completed"
    },
    "tags": []
   },
   "source": [
    "## Anlysing the data"
   ]
  },
  {
   "cell_type": "markdown",
   "id": "46acd7c1",
   "metadata": {
    "papermill": {
     "duration": 0.010955,
     "end_time": "2025-01-19T04:02:17.603920",
     "exception": false,
     "start_time": "2025-01-19T04:02:17.592965",
     "status": "completed"
    },
    "tags": []
   },
   "source": [
    "### 1 - Do people tend to spend more money on subcriptions than their personal higyene?"
   ]
  },
  {
   "cell_type": "markdown",
   "id": "582756b5",
   "metadata": {
    "papermill": {
     "duration": 0.01186,
     "end_time": "2025-01-19T04:02:17.626894",
     "exception": false,
     "start_time": "2025-01-19T04:02:17.615034",
     "status": "completed"
    },
    "tags": []
   },
   "source": [
    "As we saw previously:\n",
    "    \n",
    "- 7 Corresponds to Medical and dental\n",
    "  \n",
    "- 10 Corresponds to Subscriptions"
   ]
  },
  {
   "cell_type": "code",
   "execution_count": 19,
   "id": "348ea6aa",
   "metadata": {
    "execution": {
     "iopub.execute_input": "2025-01-19T04:02:17.652135Z",
     "iopub.status.busy": "2025-01-19T04:02:17.651631Z",
     "iopub.status.idle": "2025-01-19T04:02:17.983496Z",
     "shell.execute_reply": "2025-01-19T04:02:17.982158Z"
    },
    "papermill": {
     "duration": 0.34688,
     "end_time": "2025-01-19T04:02:17.985470",
     "exception": false,
     "start_time": "2025-01-19T04:02:17.638590",
     "status": "completed"
    },
    "tags": []
   },
   "outputs": [
    {
     "data": {
      "image/png": "[encoded data removed]",
      "text/plain": [
       "<Figure size 600x600 with 1 Axes>"
      ]
     },
     "metadata": {},
     "output_type": "display_data"
    }
   ],
   "source": [
    "total_in_health = df.loc[df[\"Category\"] == 7, \"Total Spent\"].sum()\n",
    "total_in_subs = df.loc[df[\"Category\"] == 10, \"Total Spent\"].sum()\n",
    "plt.figure(figsize=(6, 6))\n",
    "categories = ['Health', 'Subscriptions']\n",
    "values = [total_in_health, total_in_subs]\n",
    "colors = ['blue', 'green']\n",
    "plt.bar(categories, values, color=colors, width=0.4, align='center')\n",
    "plt.xlabel('Category')\n",
    "plt.ylabel('Values')\n",
    "plt.title('Bar Plot with Two Variables')\n",
    "plt.legend(['Total in Health', 'Total in Subs'])\n",
    "plt.show()\n"
   ]
  },
  {
   "cell_type": "markdown",
   "id": "473899e3",
   "metadata": {
    "papermill": {
     "duration": 0.011562,
     "end_time": "2025-01-19T04:02:18.009364",
     "exception": false,
     "start_time": "2025-01-19T04:02:17.997802",
     "status": "completed"
    },
    "tags": []
   },
   "source": [
    "So our first hypothesys was by far wrong so lets go to the next one"
   ]
  },
  {
   "cell_type": "markdown",
   "id": "a6ad7788",
   "metadata": {
    "papermill": {
     "duration": 0.011074,
     "end_time": "2025-01-19T04:02:18.032661",
     "exception": false,
     "start_time": "2025-01-19T04:02:18.021587",
     "status": "completed"
    },
    "tags": []
   },
   "source": [
    "### 2 - Spending on food surpasses that on personal groceries, False or True?.\n"
   ]
  },
  {
   "cell_type": "markdown",
   "id": "396883ba",
   "metadata": {
    "papermill": {
     "duration": 0.011096,
     "end_time": "2025-01-19T04:02:18.055189",
     "exception": false,
     "start_time": "2025-01-19T04:02:18.044093",
     "status": "completed"
    },
    "tags": []
   },
   "source": [
    "Food correspond to **1** and Groceries to **4** "
   ]
  },
  {
   "cell_type": "code",
   "execution_count": 20,
   "id": "a5ec980b",
   "metadata": {
    "execution": {
     "iopub.execute_input": "2025-01-19T04:02:18.080373Z",
     "iopub.status.busy": "2025-01-19T04:02:18.080039Z",
     "iopub.status.idle": "2025-01-19T04:02:18.278401Z",
     "shell.execute_reply": "2025-01-19T04:02:18.276911Z"
    },
    "papermill": {
     "duration": 0.214527,
     "end_time": "2025-01-19T04:02:18.281186",
     "exception": false,
     "start_time": "2025-01-19T04:02:18.066659",
     "status": "completed"
    },
    "tags": []
   },
   "outputs": [
    {
     "data": {
      "image/png": "[encoded data removed]",
      "text/plain": [
       "<Figure size 600x600 with 1 Axes>"
      ]
     },
     "metadata": {},
     "output_type": "display_data"
    }
   ],
   "source": [
    "\n",
    "filtered_food = df.loc[df[\"Category\"] == 1, \"Total Spent\"].sum()\n",
    "filtered_groceries = df.loc[df[\"Category\"] == 4, \"Total Spent\"].sum()\n",
    "\n",
    "# Creating a DataFrame with the sums for plotting\n",
    "sums_df = pd.DataFrame({\n",
    "    'Category': ['Food', 'Groceries'],\n",
    "    'Total Spent': [filtered_food, filtered_groceries]\n",
    "})\n",
    "\n",
    "# Plotting\n",
    "plt.figure(figsize=(6, 6))\n",
    "plt.plot(sums_df['Category'], sums_df['Total Spent'], label='Total Spent', marker='o')\n",
    "\n",
    "# Adding labels and title\n",
    "plt.xlabel('Category')\n",
    "plt.ylabel('Total Spent')\n",
    "plt.title('Line Plot of Food vs Groceries')\n",
    "plt.legend()\n",
    "\n",
    "# Show the plot\n",
    "plt.show()\n"
   ]
  },
  {
   "cell_type": "markdown",
   "id": "95874035",
   "metadata": {
    "papermill": {
     "duration": 0.012567,
     "end_time": "2025-01-19T04:02:18.307846",
     "exception": false,
     "start_time": "2025-01-19T04:02:18.295279",
     "status": "completed"
    },
    "tags": []
   },
   "source": [
    "### 3 - People often prioritize their overall fitness over their medical or dental health?\n",
    "\n",
    "- Fitness corresponds to 0\n",
    "- Medical/dental correpsonds to 7"
   ]
  },
  {
   "cell_type": "code",
   "execution_count": 21,
   "id": "02389815",
   "metadata": {
    "execution": {
     "iopub.execute_input": "2025-01-19T04:02:18.333919Z",
     "iopub.status.busy": "2025-01-19T04:02:18.333504Z",
     "iopub.status.idle": "2025-01-19T04:02:18.682569Z",
     "shell.execute_reply": "2025-01-19T04:02:18.681071Z"
    },
    "papermill": {
     "duration": 0.364376,
     "end_time": "2025-01-19T04:02:18.684599",
     "exception": false,
     "start_time": "2025-01-19T04:02:18.320223",
     "status": "completed"
    },
    "tags": []
   },
   "outputs": [
    {
     "data": {
      "image/png": "[encoded data removed]",
      "text/plain": [
       "<Figure size 1000x500 with 2 Axes>"
      ]
     },
     "metadata": {},
     "output_type": "display_data"
    }
   ],
   "source": [
    "plt.figure(figsize=(10, 5))\n",
    "labels = [\"Total Spent in Fitness\",\"Total Spent in Medical\"]\n",
    "values =  [\n",
    "    df.loc[df[\"Category\"] == 0, \"Total Spent\"].sum(), \n",
    "           df.loc[df[\"Category\"] == 7, \"Total Spent\"].sum()\n",
    "]\n",
    "\n",
    "plt.subplot(121)\n",
    "plt.pie(\n",
    "    values, \n",
    "    labels=labels, \n",
    "    autopct='%1.1f%%', startangle=90, colors=colors)\n",
    "plt.title(\"Pie Chart\")\n",
    "plt.subplot(122)\n",
    "\n",
    "line = plt.plot(\n",
    "    values, \n",
    "    label='Total Spent', marker='o'\n",
    ")\n",
    "\n",
    "plt.title(\"Line Chart\")\n",
    "plt.xlabel(\"Category Index\")\n",
    "plt.legend()\n",
    "plt.tight_layout() \n",
    "plt.show()\n"
   ]
  },
  {
   "cell_type": "markdown",
   "id": "764dbf71",
   "metadata": {
    "papermill": {
     "duration": 0.014715,
     "end_time": "2025-01-19T04:02:18.713764",
     "exception": false,
     "start_time": "2025-01-19T04:02:18.699049",
     "status": "completed"
    },
    "tags": []
   },
   "source": [
    "### 4 - Credit cards are the most commonly used payment method?\n",
    "- Credit Card corresponds to 2\n"
   ]
  },
  {
   "cell_type": "code",
   "execution_count": 22,
   "id": "5a565d37",
   "metadata": {
    "execution": {
     "iopub.execute_input": "2025-01-19T04:02:18.743184Z",
     "iopub.status.busy": "2025-01-19T04:02:18.742805Z",
     "iopub.status.idle": "2025-01-19T04:02:18.758135Z",
     "shell.execute_reply": "2025-01-19T04:02:18.756879Z"
    },
    "papermill": {
     "duration": 0.032219,
     "end_time": "2025-01-19T04:02:18.760474",
     "exception": false,
     "start_time": "2025-01-19T04:02:18.728255",
     "status": "completed"
    },
    "tags": []
   },
   "outputs": [
    {
     "data": {
      "text/html": [
       "<div>\n",
       "<style scoped>\n",
       "    .dataframe tbody tr th:only-of-type {\n",
       "        vertical-align: middle;\n",
       "    }\n",
       "\n",
       "    .dataframe tbody tr th {\n",
       "        vertical-align: top;\n",
       "    }\n",
       "\n",
       "    .dataframe thead th {\n",
       "        text-align: right;\n",
       "    }\n",
       "</style>\n",
       "<table border=\"1\" class=\"dataframe\">\n",
       "  <thead>\n",
       "    <tr style=\"text-align: right;\">\n",
       "      <th></th>\n",
       "      <th>Payment Method</th>\n",
       "      <th>Sum</th>\n",
       "    </tr>\n",
       "  </thead>\n",
       "  <tbody>\n",
       "    <tr>\n",
       "      <th>0</th>\n",
       "      <td>Cash</td>\n",
       "      <td>2478</td>\n",
       "    </tr>\n",
       "    <tr>\n",
       "      <th>1</th>\n",
       "      <td>Credit Card</td>\n",
       "      <td>2499</td>\n",
       "    </tr>\n",
       "    <tr>\n",
       "      <th>2</th>\n",
       "      <td>Debit Card</td>\n",
       "      <td>2463</td>\n",
       "    </tr>\n",
       "    <tr>\n",
       "      <th>3</th>\n",
       "      <td>Digital Wallet</td>\n",
       "      <td>2560</td>\n",
       "    </tr>\n",
       "  </tbody>\n",
       "</table>\n",
       "</div>"
      ],
      "text/plain": [
       "   Payment Method   Sum\n",
       "0            Cash  2478\n",
       "1     Credit Card  2499\n",
       "2      Debit Card  2463\n",
       "3  Digital Wallet  2560"
      ]
     },
     "execution_count": 22,
     "metadata": {},
     "output_type": "execute_result"
    }
   ],
   "source": [
    "\n",
    "catg_pay = ['Cash', 'Credit Card', 'Debit Card', 'Digital Wallet']\n",
    "pay_methods = [\n",
    "    len(df.loc[df[\"Payment Method\"] == 0]),  # Cash\n",
    "    len(df.loc[df[\"Payment Method\"] == 1]),  # Credit Card\n",
    "    len(df.loc[df[\"Payment Method\"] == 2]),  # Debit Card\n",
    "    len(df.loc[df[\"Payment Method\"] == 3])   # Digital Wallet\n",
    "]\n",
    "\n",
    "sums_df_pay = pd.DataFrame({\n",
    "    'Payment Method': catg_pay,\n",
    "    'Sum': pay_methods\n",
    "})\n",
    "sums_df_pay"
   ]
  },
  {
   "cell_type": "code",
   "execution_count": 23,
   "id": "cf1fb533",
   "metadata": {
    "execution": {
     "iopub.execute_input": "2025-01-19T04:02:18.794321Z",
     "iopub.status.busy": "2025-01-19T04:02:18.793861Z",
     "iopub.status.idle": "2025-01-19T04:02:19.087186Z",
     "shell.execute_reply": "2025-01-19T04:02:19.085786Z"
    },
    "papermill": {
     "duration": 0.313221,
     "end_time": "2025-01-19T04:02:19.089088",
     "exception": false,
     "start_time": "2025-01-19T04:02:18.775867",
     "status": "completed"
    },
    "tags": []
   },
   "outputs": [
    {
     "data": {
      "image/png": "[encoded data removed]",
      "text/plain": [
       "<Figure size 1000x600 with 2 Axes>"
      ]
     },
     "metadata": {},
     "output_type": "display_data"
    }
   ],
   "source": [
    "bar_colors = ['blue', 'green', 'coral', 'red', 'pink']\n",
    "plt.figure(figsize=(10, 6))\n",
    "plt.subplots_adjust(wspace=1, hspace=1)\n",
    "\n",
    "plt.subplot(121)\n",
    "ax1 = plt.pie(pay_methods,labels=catg_pay,autopct='%1.1f%%', startangle=90, colors=colors)\n",
    "\n",
    "plt.subplot(122)\n",
    "\n",
    "ax2 = plt.barh(catg_pay, pay_methods, color=bar_colors)\n",
    "max_value = max(values)\n",
    "plt.xlim(0, 2560) \n",
    "\n",
    "for bar in ax2:\n",
    "    # Get the bar width and position for centering the text\n",
    "    width = bar.get_width()\n",
    "    # Place the text at the middle of the bar\n",
    "    plt.text(width / 2, bar.get_y() + bar.get_height() / 2, \n",
    "             str(width), va='center', ha='center', fontsize=10, color='white')\n",
    "\n",
    "plt.tight_layout()\n",
    "# Show plot\n",
    "plt.show()"
   ]
  },
  {
   "cell_type": "code",
   "execution_count": null,
   "id": "d47f1966",
   "metadata": {
    "papermill": {
     "duration": 0.015504,
     "end_time": "2025-01-19T04:02:19.120896",
     "exception": false,
     "start_time": "2025-01-19T04:02:19.105392",
     "status": "completed"
    },
    "tags": []
   },
   "outputs": [],
   "source": []
  },
  {
   "cell_type": "code",
   "execution_count": null,
   "id": "9e1de002",
   "metadata": {
    "execution": {
     "iopub.execute_input": "2025-01-19T03:00:31.170586Z",
     "iopub.status.busy": "2025-01-19T03:00:31.170230Z",
     "iopub.status.idle": "2025-01-19T03:00:31.178819Z",
     "shell.execute_reply": "2025-01-19T03:00:31.177956Z",
     "shell.execute_reply.started": "2025-01-19T03:00:31.170560Z"
    },
    "papermill": {
     "duration": 0.015191,
     "end_time": "2025-01-19T04:02:19.150480",
     "exception": false,
     "start_time": "2025-01-19T04:02:19.135289",
     "status": "completed"
    },
    "tags": []
   },
   "outputs": [],
   "source": []
  },
  {
   "cell_type": "code",
   "execution_count": null,
   "id": "b6a61d15",
   "metadata": {
    "execution": {
     "iopub.execute_input": "2025-01-19T03:02:28.359904Z",
     "iopub.status.busy": "2025-01-19T03:02:28.359559Z",
     "iopub.status.idle": "2025-01-19T03:02:28.553401Z",
     "shell.execute_reply": "2025-01-19T03:02:28.552417Z",
     "shell.execute_reply.started": "2025-01-19T03:02:28.359876Z"
    },
    "papermill": {
     "duration": 0.015253,
     "end_time": "2025-01-19T04:02:19.182522",
     "exception": false,
     "start_time": "2025-01-19T04:02:19.167269",
     "status": "completed"
    },
    "tags": []
   },
   "outputs": [],
   "source": []
  },
  {
   "cell_type": "code",
   "execution_count": 24,
   "id": "5fdfd785",
   "metadata": {
    "execution": {
     "iopub.execute_input": "2025-01-19T04:02:19.217958Z",
     "iopub.status.busy": "2025-01-19T04:02:19.217500Z",
     "iopub.status.idle": "2025-01-19T04:02:19.226093Z",
     "shell.execute_reply": "2025-01-19T04:02:19.224921Z"
    },
    "papermill": {
     "duration": 0.028647,
     "end_time": "2025-01-19T04:02:19.228145",
     "exception": false,
     "start_time": "2025-01-19T04:02:19.199498",
     "status": "completed"
    },
    "tags": []
   },
   "outputs": [
    {
     "data": {
      "text/plain": [
       "(336101.51,)"
      ]
     },
     "execution_count": 24,
     "metadata": {},
     "output_type": "execute_result"
    }
   ],
   "source": [
    "df.loc[df[\"Category\"] == 0, \"Total Spent\"].sum(), \n",
    "      "
   ]
  },
  {
   "cell_type": "code",
   "execution_count": 25,
   "id": "c2e1119c",
   "metadata": {
    "execution": {
     "iopub.execute_input": "2025-01-19T04:02:19.262382Z",
     "iopub.status.busy": "2025-01-19T04:02:19.261717Z",
     "iopub.status.idle": "2025-01-19T04:02:19.270934Z",
     "shell.execute_reply": "2025-01-19T04:02:19.269520Z"
    },
    "papermill": {
     "duration": 0.029185,
     "end_time": "2025-01-19T04:02:19.273570",
     "exception": false,
     "start_time": "2025-01-19T04:02:19.244385",
     "status": "completed"
    },
    "tags": []
   },
   "outputs": [
    {
     "data": {
      "text/plain": [
       "294709.1"
      ]
     },
     "execution_count": 25,
     "metadata": {},
     "output_type": "execute_result"
    }
   ],
   "source": [
    "  df.loc[df[\"Category\"] == 7, \"Total Spent\"].sum()"
   ]
  },
  {
   "cell_type": "code",
   "execution_count": null,
   "id": "1df99151",
   "metadata": {
    "papermill": {
     "duration": 0.017251,
     "end_time": "2025-01-19T04:02:19.307481",
     "exception": false,
     "start_time": "2025-01-19T04:02:19.290230",
     "status": "completed"
    },
    "tags": []
   },
   "outputs": [],
   "source": []
  },
  {
   "cell_type": "code",
   "execution_count": null,
   "id": "2c05ad72",
   "metadata": {
    "papermill": {
     "duration": 0.015205,
     "end_time": "2025-01-19T04:02:19.339411",
     "exception": false,
     "start_time": "2025-01-19T04:02:19.324206",
     "status": "completed"
    },
    "tags": []
   },
   "outputs": [],
   "source": []
  },
  {
   "cell_type": "code",
   "execution_count": null,
   "id": "72fa3a07",
   "metadata": {
    "papermill": {
     "duration": 0.014103,
     "end_time": "2025-01-19T04:02:19.368599",
     "exception": false,
     "start_time": "2025-01-19T04:02:19.354496",
     "status": "completed"
    },
    "tags": []
   },
   "outputs": [],
   "source": []
  },
  {
   "cell_type": "code",
   "execution_count": null,
   "id": "c83d4dda",
   "metadata": {
    "papermill": {
     "duration": 0.015533,
     "end_time": "2025-01-19T04:02:19.398805",
     "exception": false,
     "start_time": "2025-01-19T04:02:19.383272",
     "status": "completed"
    },
    "tags": []
   },
   "outputs": [],
   "source": []
  },
  {
   "cell_type": "code",
   "execution_count": null,
   "id": "0e7c003c",
   "metadata": {
    "papermill": {
     "duration": 0.014091,
     "end_time": "2025-01-19T04:02:19.428754",
     "exception": false,
     "start_time": "2025-01-19T04:02:19.414663",
     "status": "completed"
    },
    "tags": []
   },
   "outputs": [],
   "source": []
  },
  {
   "cell_type": "code",
   "execution_count": null,
   "id": "77a695e4",
   "metadata": {
    "papermill": {
     "duration": 0.013919,
     "end_time": "2025-01-19T04:02:19.456962",
     "exception": false,
     "start_time": "2025-01-19T04:02:19.443043",
     "status": "completed"
    },
    "tags": []
   },
   "outputs": [],
   "source": []
  },
  {
   "cell_type": "code",
   "execution_count": null,
   "id": "9b86ce11",
   "metadata": {
    "papermill": {
     "duration": 0.015215,
     "end_time": "2025-01-19T04:02:19.486702",
     "exception": false,
     "start_time": "2025-01-19T04:02:19.471487",
     "status": "completed"
    },
    "tags": []
   },
   "outputs": [],
   "source": []
  },
  {
   "cell_type": "code",
   "execution_count": null,
   "id": "3a6be44e",
   "metadata": {
    "papermill": {
     "duration": 0.01452,
     "end_time": "2025-01-19T04:02:19.517216",
     "exception": false,
     "start_time": "2025-01-19T04:02:19.502696",
     "status": "completed"
    },
    "tags": []
   },
   "outputs": [],
   "source": []
  },
  {
   "cell_type": "code",
   "execution_count": null,
   "id": "9beaf0c5",
   "metadata": {
    "papermill": {
     "duration": 0.014651,
     "end_time": "2025-01-19T04:02:19.547101",
     "exception": false,
     "start_time": "2025-01-19T04:02:19.532450",
     "status": "completed"
    },
    "tags": []
   },
   "outputs": [],
   "source": []
  },
  {
   "cell_type": "code",
   "execution_count": null,
   "id": "6cd0819c",
   "metadata": {
    "papermill": {
     "duration": 0.014018,
     "end_time": "2025-01-19T04:02:19.575701",
     "exception": false,
     "start_time": "2025-01-19T04:02:19.561683",
     "status": "completed"
    },
    "tags": []
   },
   "outputs": [],
   "source": []
  },
  {
   "cell_type": "code",
   "execution_count": null,
   "id": "a712d29d",
   "metadata": {
    "papermill": {
     "duration": 0.015126,
     "end_time": "2025-01-19T04:02:19.605224",
     "exception": false,
     "start_time": "2025-01-19T04:02:19.590098",
     "status": "completed"
    },
    "tags": []
   },
   "outputs": [],
   "source": []
  },
  {
   "cell_type": "code",
   "execution_count": null,
   "id": "71ce7e9d",
   "metadata": {
    "papermill": {
     "duration": 0.014744,
     "end_time": "2025-01-19T04:02:19.636237",
     "exception": false,
     "start_time": "2025-01-19T04:02:19.621493",
     "status": "completed"
    },
    "tags": []
   },
   "outputs": [],
   "source": []
  },
  {
   "cell_type": "code",
   "execution_count": null,
   "id": "b39a4756",
   "metadata": {
    "papermill": {
     "duration": 0.014327,
     "end_time": "2025-01-19T04:02:19.666604",
     "exception": false,
     "start_time": "2025-01-19T04:02:19.652277",
     "status": "completed"
    },
    "tags": []
   },
   "outputs": [],
   "source": []
  },
  {
   "cell_type": "code",
   "execution_count": null,
   "id": "f2f6bbe9",
   "metadata": {
    "papermill": {
     "duration": 0.015792,
     "end_time": "2025-01-19T04:02:19.774523",
     "exception": false,
     "start_time": "2025-01-19T04:02:19.758731",
     "status": "completed"
    },
    "tags": []
   },
   "outputs": [],
   "source": []
  }
 ],
 "metadata": {
  "kaggle": {
   "accelerator": "none",
   "dataSources": [
    {
     "datasetId": 6492858,
     "sourceId": 10486617,
     "sourceType": "datasetVersion"
    }
   ],
   "dockerImageVersionId": 30839,
   "isGpuEnabled": false,
   "isInternetEnabled": false,
   "language": "python",
   "sourceType": "notebook"
  },
  "kernelspec": {
   "display_name": "Python 3",
   "language": "python",
   "name": "python3"
  },
  "language_info": {
   "codemirror_mode": {
    "name": "ipython",
    "version": 3
   },
   "file_extension": ".py",
   "mimetype": "text/x-python",
   "name": "python",
   "nbconvert_exporter": "python",
   "pygments_lexer": "ipython3",
   "version": "3.10.12"
  },
  "papermill": {
   "default_parameters": {},
   "duration": 12.041681,
   "end_time": "2025-01-19T04:02:20.614656",
   "environment_variables": {},
   "exception": null,
   "input_path": "__notebook__.ipynb",
   "output_path": "__notebook__.ipynb",
   "parameters": {},
   "start_time": "2025-01-19T04:02:08.572975",
   "version": "2.6.0"
  }
 },
 "nbformat": 4,
 "nbformat_minor": 5
}
