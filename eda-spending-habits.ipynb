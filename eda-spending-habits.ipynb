{
 "cells": [
  {
   "cell_type": "code",
   "execution_count": 1,
   "id": "75c0bd11",
   "metadata": {
    "_cell_guid": "b1076dfc-b9ad-4769-8c92-a6c4dae69d19",
    "_uuid": "8f2839f25d086af736a60e9eeb907d3b93b6e0e5",
    "execution": {
     "iopub.execute_input": "2025-01-21T23:08:38.800913Z",
     "iopub.status.busy": "2025-01-21T23:08:38.800507Z",
     "iopub.status.idle": "2025-01-21T23:08:40.039325Z",
     "shell.execute_reply": "2025-01-21T23:08:40.038003Z"
    },
    "papermill": {
     "duration": 1.252956,
     "end_time": "2025-01-21T23:08:40.041633",
     "exception": false,
     "start_time": "2025-01-21T23:08:38.788677",
     "status": "completed"
    },
    "tags": []
   },
   "outputs": [
    {
     "name": "stdout",
     "output_type": "stream",
     "text": [
      "/kaggle/input/spending-habits/spending_patterns_detailed.csv\n"
     ]
    }
   ],
   "source": [
    "# This Python 3 environment comes with many helpful analytics libraries installed\n",
    "# It is defined by the kaggle/python Docker image: https://github.com/kaggle/docker-python\n",
    "# For example, here's several helpful packages to load\n",
    "\n",
    "import numpy as np # linear algebra\n",
    "import pandas as pd # data processing, CSV file I/O (e.g. pd.read_csv)\n",
    "\n",
    "# Input data files are available in the read-only \"../input/\" directory\n",
    "# For example, running this (by clicking run or pressing Shift+Enter) will list all files under the input directory\n",
    "\n",
    "import os\n",
    "for dirname, _, filenames in os.walk('/kaggle/input'):\n",
    "    for filename in filenames:\n",
    "        print(os.path.join(dirname, filename))\n",
    "\n",
    "# You can write up to 20GB to the current directory (/kaggle/working/) that gets preserved as output when you create a version using \"Save & Run All\" \n",
    "# You can also write temporary files to /kaggle/temp/, but they won't be saved outside of the current session"
   ]
  },
  {
   "cell_type": "markdown",
   "id": "d212dd1d",
   "metadata": {
    "papermill": {
     "duration": 0.009003,
     "end_time": "2025-01-21T23:08:40.060409",
     "exception": false,
     "start_time": "2025-01-21T23:08:40.051406",
     "status": "completed"
    },
    "tags": []
   },
   "source": [
    "### Libraries"
   ]
  },
  {
   "cell_type": "code",
   "execution_count": 2,
   "id": "8c0d11e6",
   "metadata": {
    "execution": {
     "iopub.execute_input": "2025-01-21T23:08:40.079060Z",
     "iopub.status.busy": "2025-01-21T23:08:40.078518Z",
     "iopub.status.idle": "2025-01-21T23:08:42.399965Z",
     "shell.execute_reply": "2025-01-21T23:08:42.398555Z"
    },
    "papermill": {
     "duration": 2.332889,
     "end_time": "2025-01-21T23:08:42.402228",
     "exception": false,
     "start_time": "2025-01-21T23:08:40.069339",
     "status": "completed"
    },
    "tags": []
   },
   "outputs": [],
   "source": [
    "import matplotlib.pyplot as plt\n",
    "import seaborn as sns\n",
    "from sklearn.preprocessing import LabelEncoder"
   ]
  },
  {
   "cell_type": "markdown",
   "id": "2231fbb1",
   "metadata": {
    "papermill": {
     "duration": 0.007879,
     "end_time": "2025-01-21T23:08:42.418638",
     "exception": false,
     "start_time": "2025-01-21T23:08:42.410759",
     "status": "completed"
    },
    "tags": []
   },
   "source": [
    "## Hyphothesis that we will try to prove\n",
    "1. People spend more money with subscriptions than personal Hygiene\n",
    "2. More money is spent on food compared to personal groceries.\n",
    "3. People tend to take more care of their overall fitness than their own medical or dental health\n",
    "4. Credict cards are the most used payment methods\n",
    "5. People don't go so often to physical stores "
   ]
  },
  {
   "cell_type": "markdown",
   "id": "52f93f1c",
   "metadata": {
    "papermill": {
     "duration": 0.00783,
     "end_time": "2025-01-21T23:08:42.435325",
     "exception": false,
     "start_time": "2025-01-21T23:08:42.427495",
     "status": "completed"
    },
    "tags": []
   },
   "source": [
    "## Reading the data"
   ]
  },
  {
   "cell_type": "code",
   "execution_count": 3,
   "id": "2377ff18",
   "metadata": {
    "execution": {
     "iopub.execute_input": "2025-01-21T23:08:42.453487Z",
     "iopub.status.busy": "2025-01-21T23:08:42.452902Z",
     "iopub.status.idle": "2025-01-21T23:08:42.499735Z",
     "shell.execute_reply": "2025-01-21T23:08:42.498442Z"
    },
    "papermill": {
     "duration": 0.058128,
     "end_time": "2025-01-21T23:08:42.501730",
     "exception": false,
     "start_time": "2025-01-21T23:08:42.443602",
     "status": "completed"
    },
    "tags": []
   },
   "outputs": [],
   "source": [
    "df = pd.read_csv(\"/kaggle/input/spending-habits/spending_patterns_detailed.csv\")"
   ]
  },
  {
   "cell_type": "code",
   "execution_count": 4,
   "id": "ac501b89",
   "metadata": {
    "execution": {
     "iopub.execute_input": "2025-01-21T23:08:42.520156Z",
     "iopub.status.busy": "2025-01-21T23:08:42.519783Z",
     "iopub.status.idle": "2025-01-21T23:08:42.550723Z",
     "shell.execute_reply": "2025-01-21T23:08:42.549461Z"
    },
    "papermill": {
     "duration": 0.042452,
     "end_time": "2025-01-21T23:08:42.552842",
     "exception": false,
     "start_time": "2025-01-21T23:08:42.510390",
     "status": "completed"
    },
    "tags": []
   },
   "outputs": [
    {
     "data": {
      "text/html": [
       "<div>\n",
       "<style scoped>\n",
       "    .dataframe tbody tr th:only-of-type {\n",
       "        vertical-align: middle;\n",
       "    }\n",
       "\n",
       "    .dataframe tbody tr th {\n",
       "        vertical-align: top;\n",
       "    }\n",
       "\n",
       "    .dataframe thead th {\n",
       "        text-align: right;\n",
       "    }\n",
       "</style>\n",
       "<table border=\"1\" class=\"dataframe\">\n",
       "  <thead>\n",
       "    <tr style=\"text-align: right;\">\n",
       "      <th></th>\n",
       "      <th>Customer ID</th>\n",
       "      <th>Category</th>\n",
       "      <th>Item</th>\n",
       "      <th>Quantity</th>\n",
       "      <th>Price Per Unit</th>\n",
       "      <th>Total Spent</th>\n",
       "      <th>Payment Method</th>\n",
       "      <th>Location</th>\n",
       "      <th>Transaction Date</th>\n",
       "    </tr>\n",
       "  </thead>\n",
       "  <tbody>\n",
       "    <tr>\n",
       "      <th>0</th>\n",
       "      <td>CUST_0159</td>\n",
       "      <td>Groceries</td>\n",
       "      <td>Milk</td>\n",
       "      <td>1</td>\n",
       "      <td>1.28</td>\n",
       "      <td>1.28</td>\n",
       "      <td>Debit Card</td>\n",
       "      <td>Mobile App</td>\n",
       "      <td>2024-11-13</td>\n",
       "    </tr>\n",
       "    <tr>\n",
       "      <th>1</th>\n",
       "      <td>CUST_0017</td>\n",
       "      <td>Friend Activities</td>\n",
       "      <td>Dinner with Friends</td>\n",
       "      <td>2</td>\n",
       "      <td>74.69</td>\n",
       "      <td>149.39</td>\n",
       "      <td>Debit Card</td>\n",
       "      <td>In-store</td>\n",
       "      <td>2023-05-04</td>\n",
       "    </tr>\n",
       "    <tr>\n",
       "      <th>2</th>\n",
       "      <td>CUST_0094</td>\n",
       "      <td>Housing and Utilities</td>\n",
       "      <td>Water Bill</td>\n",
       "      <td>1</td>\n",
       "      <td>76.06</td>\n",
       "      <td>76.06</td>\n",
       "      <td>Digital Wallet</td>\n",
       "      <td>Mobile App</td>\n",
       "      <td>2023-12-16</td>\n",
       "    </tr>\n",
       "    <tr>\n",
       "      <th>3</th>\n",
       "      <td>CUST_0162</td>\n",
       "      <td>Fitness</td>\n",
       "      <td>Yoga Class</td>\n",
       "      <td>5</td>\n",
       "      <td>11.24</td>\n",
       "      <td>56.18</td>\n",
       "      <td>Cash</td>\n",
       "      <td>In-store</td>\n",
       "      <td>2024-01-28</td>\n",
       "    </tr>\n",
       "    <tr>\n",
       "      <th>4</th>\n",
       "      <td>CUST_0129</td>\n",
       "      <td>Gifts</td>\n",
       "      <td>Flowers</td>\n",
       "      <td>3</td>\n",
       "      <td>43.71</td>\n",
       "      <td>131.12</td>\n",
       "      <td>Debit Card</td>\n",
       "      <td>In-store</td>\n",
       "      <td>2023-07-28</td>\n",
       "    </tr>\n",
       "  </tbody>\n",
       "</table>\n",
       "</div>"
      ],
      "text/plain": [
       "  Customer ID               Category                 Item  Quantity  \\\n",
       "0   CUST_0159              Groceries                 Milk         1   \n",
       "1   CUST_0017      Friend Activities  Dinner with Friends         2   \n",
       "2   CUST_0094  Housing and Utilities           Water Bill         1   \n",
       "3   CUST_0162                Fitness           Yoga Class         5   \n",
       "4   CUST_0129                  Gifts              Flowers         3   \n",
       "\n",
       "   Price Per Unit  Total Spent  Payment Method    Location Transaction Date  \n",
       "0            1.28         1.28      Debit Card  Mobile App       2024-11-13  \n",
       "1           74.69       149.39      Debit Card    In-store       2023-05-04  \n",
       "2           76.06        76.06  Digital Wallet  Mobile App       2023-12-16  \n",
       "3           11.24        56.18            Cash    In-store       2024-01-28  \n",
       "4           43.71       131.12      Debit Card    In-store       2023-07-28  "
      ]
     },
     "execution_count": 4,
     "metadata": {},
     "output_type": "execute_result"
    }
   ],
   "source": [
    "df.head()"
   ]
  },
  {
   "cell_type": "code",
   "execution_count": 5,
   "id": "7574ec04",
   "metadata": {
    "execution": {
     "iopub.execute_input": "2025-01-21T23:08:42.571718Z",
     "iopub.status.busy": "2025-01-21T23:08:42.571334Z",
     "iopub.status.idle": "2025-01-21T23:08:42.586868Z",
     "shell.execute_reply": "2025-01-21T23:08:42.585457Z"
    },
    "papermill": {
     "duration": 0.027214,
     "end_time": "2025-01-21T23:08:42.588815",
     "exception": false,
     "start_time": "2025-01-21T23:08:42.561601",
     "status": "completed"
    },
    "tags": []
   },
   "outputs": [
    {
     "data": {
      "text/html": [
       "<div>\n",
       "<style scoped>\n",
       "    .dataframe tbody tr th:only-of-type {\n",
       "        vertical-align: middle;\n",
       "    }\n",
       "\n",
       "    .dataframe tbody tr th {\n",
       "        vertical-align: top;\n",
       "    }\n",
       "\n",
       "    .dataframe thead th {\n",
       "        text-align: right;\n",
       "    }\n",
       "</style>\n",
       "<table border=\"1\" class=\"dataframe\">\n",
       "  <thead>\n",
       "    <tr style=\"text-align: right;\">\n",
       "      <th></th>\n",
       "      <th>Customer ID</th>\n",
       "      <th>Category</th>\n",
       "      <th>Item</th>\n",
       "      <th>Quantity</th>\n",
       "      <th>Price Per Unit</th>\n",
       "      <th>Total Spent</th>\n",
       "      <th>Payment Method</th>\n",
       "      <th>Location</th>\n",
       "      <th>Transaction Date</th>\n",
       "    </tr>\n",
       "  </thead>\n",
       "  <tbody>\n",
       "    <tr>\n",
       "      <th>9995</th>\n",
       "      <td>CUST_0072</td>\n",
       "      <td>Housing and Utilities</td>\n",
       "      <td>Water Bill</td>\n",
       "      <td>1</td>\n",
       "      <td>69.46</td>\n",
       "      <td>69.46</td>\n",
       "      <td>Debit Card</td>\n",
       "      <td>Online</td>\n",
       "      <td>2023-09-01</td>\n",
       "    </tr>\n",
       "    <tr>\n",
       "      <th>9996</th>\n",
       "      <td>CUST_0150</td>\n",
       "      <td>Groceries</td>\n",
       "      <td>Snacks</td>\n",
       "      <td>5</td>\n",
       "      <td>15.54</td>\n",
       "      <td>77.70</td>\n",
       "      <td>Debit Card</td>\n",
       "      <td>In-store</td>\n",
       "      <td>2024-06-27</td>\n",
       "    </tr>\n",
       "    <tr>\n",
       "      <th>9997</th>\n",
       "      <td>CUST_0122</td>\n",
       "      <td>Shopping</td>\n",
       "      <td>Electronics</td>\n",
       "      <td>1</td>\n",
       "      <td>732.03</td>\n",
       "      <td>732.03</td>\n",
       "      <td>Debit Card</td>\n",
       "      <td>In-store</td>\n",
       "      <td>2024-03-19</td>\n",
       "    </tr>\n",
       "    <tr>\n",
       "      <th>9998</th>\n",
       "      <td>CUST_0133</td>\n",
       "      <td>Transportation</td>\n",
       "      <td>Car Repair</td>\n",
       "      <td>1</td>\n",
       "      <td>107.63</td>\n",
       "      <td>107.63</td>\n",
       "      <td>Debit Card</td>\n",
       "      <td>Mobile App</td>\n",
       "      <td>2024-10-17</td>\n",
       "    </tr>\n",
       "    <tr>\n",
       "      <th>9999</th>\n",
       "      <td>CUST_0058</td>\n",
       "      <td>Housing and Utilities</td>\n",
       "      <td>Gas Bill</td>\n",
       "      <td>1</td>\n",
       "      <td>98.79</td>\n",
       "      <td>98.79</td>\n",
       "      <td>Credit Card</td>\n",
       "      <td>Mobile App</td>\n",
       "      <td>2024-08-04</td>\n",
       "    </tr>\n",
       "  </tbody>\n",
       "</table>\n",
       "</div>"
      ],
      "text/plain": [
       "     Customer ID               Category         Item  Quantity  \\\n",
       "9995   CUST_0072  Housing and Utilities   Water Bill         1   \n",
       "9996   CUST_0150              Groceries       Snacks         5   \n",
       "9997   CUST_0122               Shopping  Electronics         1   \n",
       "9998   CUST_0133         Transportation   Car Repair         1   \n",
       "9999   CUST_0058  Housing and Utilities     Gas Bill         1   \n",
       "\n",
       "      Price Per Unit  Total Spent Payment Method    Location Transaction Date  \n",
       "9995           69.46        69.46     Debit Card      Online       2023-09-01  \n",
       "9996           15.54        77.70     Debit Card    In-store       2024-06-27  \n",
       "9997          732.03       732.03     Debit Card    In-store       2024-03-19  \n",
       "9998          107.63       107.63     Debit Card  Mobile App       2024-10-17  \n",
       "9999           98.79        98.79    Credit Card  Mobile App       2024-08-04  "
      ]
     },
     "execution_count": 5,
     "metadata": {},
     "output_type": "execute_result"
    }
   ],
   "source": [
    "df.tail()"
   ]
  },
  {
   "cell_type": "code",
   "execution_count": 6,
   "id": "04709fbc",
   "metadata": {
    "execution": {
     "iopub.execute_input": "2025-01-21T23:08:42.607417Z",
     "iopub.status.busy": "2025-01-21T23:08:42.606991Z",
     "iopub.status.idle": "2025-01-21T23:08:42.614605Z",
     "shell.execute_reply": "2025-01-21T23:08:42.613449Z"
    },
    "papermill": {
     "duration": 0.018984,
     "end_time": "2025-01-21T23:08:42.616533",
     "exception": false,
     "start_time": "2025-01-21T23:08:42.597549",
     "status": "completed"
    },
    "tags": []
   },
   "outputs": [
    {
     "data": {
      "text/plain": [
       "Customer ID          object\n",
       "Category             object\n",
       "Item                 object\n",
       "Quantity              int64\n",
       "Price Per Unit      float64\n",
       "Total Spent         float64\n",
       "Payment Method       object\n",
       "Location             object\n",
       "Transaction Date     object\n",
       "dtype: object"
      ]
     },
     "execution_count": 6,
     "metadata": {},
     "output_type": "execute_result"
    }
   ],
   "source": [
    "df.dtypes"
   ]
  },
  {
   "cell_type": "code",
   "execution_count": 7,
   "id": "44e4975b",
   "metadata": {
    "execution": {
     "iopub.execute_input": "2025-01-21T23:08:42.635925Z",
     "iopub.status.busy": "2025-01-21T23:08:42.635478Z",
     "iopub.status.idle": "2025-01-21T23:08:42.642588Z",
     "shell.execute_reply": "2025-01-21T23:08:42.641422Z"
    },
    "papermill": {
     "duration": 0.018564,
     "end_time": "2025-01-21T23:08:42.644398",
     "exception": false,
     "start_time": "2025-01-21T23:08:42.625834",
     "status": "completed"
    },
    "tags": []
   },
   "outputs": [
    {
     "data": {
      "text/plain": [
       "Index(['Customer ID', 'Category', 'Item', 'Quantity', 'Price Per Unit',\n",
       "       'Total Spent', 'Payment Method', 'Location', 'Transaction Date'],\n",
       "      dtype='object')"
      ]
     },
     "execution_count": 7,
     "metadata": {},
     "output_type": "execute_result"
    }
   ],
   "source": [
    "df.columns"
   ]
  },
  {
   "cell_type": "code",
   "execution_count": 8,
   "id": "47f61fcc",
   "metadata": {
    "execution": {
     "iopub.execute_input": "2025-01-21T23:08:42.663371Z",
     "iopub.status.busy": "2025-01-21T23:08:42.662977Z",
     "iopub.status.idle": "2025-01-21T23:08:42.675600Z",
     "shell.execute_reply": "2025-01-21T23:08:42.674410Z"
    },
    "papermill": {
     "duration": 0.024251,
     "end_time": "2025-01-21T23:08:42.677597",
     "exception": false,
     "start_time": "2025-01-21T23:08:42.653346",
     "status": "completed"
    },
    "tags": []
   },
   "outputs": [
    {
     "data": {
      "text/plain": [
       "array(['Groceries', 'Friend Activities', 'Housing and Utilities',\n",
       "       'Fitness', 'Gifts', 'Transportation', 'Travel', 'Personal Hygiene',\n",
       "       'Hobbies', 'Shopping', 'Medical/Dental', 'Food', 'Subscriptions'],\n",
       "      dtype=object)"
      ]
     },
     "execution_count": 8,
     "metadata": {},
     "output_type": "execute_result"
    }
   ],
   "source": [
    "df[\"Category\"].unique()"
   ]
  },
  {
   "cell_type": "code",
   "execution_count": 9,
   "id": "3ddf6e0b",
   "metadata": {
    "execution": {
     "iopub.execute_input": "2025-01-21T23:08:42.696806Z",
     "iopub.status.busy": "2025-01-21T23:08:42.696392Z",
     "iopub.status.idle": "2025-01-21T23:08:42.704608Z",
     "shell.execute_reply": "2025-01-21T23:08:42.703420Z"
    },
    "papermill": {
     "duration": 0.019996,
     "end_time": "2025-01-21T23:08:42.706574",
     "exception": false,
     "start_time": "2025-01-21T23:08:42.686578",
     "status": "completed"
    },
    "tags": []
   },
   "outputs": [
    {
     "data": {
      "text/plain": [
       "array(['Milk', 'Dinner with Friends', 'Water Bill', 'Yoga Class',\n",
       "       'Flowers', 'Car Repair', 'Personal Trainer', 'Plane Ticket',\n",
       "       'Kids Games', 'Bread', 'Toothpaste', 'Crochet Supplies',\n",
       "       'Gas Bill', 'Jewelry', 'Car', 'Shoes', 'Dentist Visit', 'Chicken',\n",
       "       'Clothes', 'Snacks', 'Fast Food', 'Restaurant Meal', 'Taxi/Uber',\n",
       "       'Doctor Visit', 'Public Transit', 'Medicine', 'Vegetables', 'Gas',\n",
       "       'Streaming Service', 'Shampoo', 'Electricity Bill',\n",
       "       'Skin Care Products', 'Coffee', 'Art Supplies', 'Magazine',\n",
       "       'Movie Tickets', 'Workout Equipment', 'Meat', 'Rent',\n",
       "       'Concert Tickets', 'Gift Cards', 'Hotel Stay', 'Soap', 'Books',\n",
       "       'Electronics', 'Fruits', 'Gym Membership', 'Video Games'],\n",
       "      dtype=object)"
      ]
     },
     "execution_count": 9,
     "metadata": {},
     "output_type": "execute_result"
    }
   ],
   "source": [
    "df[\"Item\"].unique()"
   ]
  },
  {
   "cell_type": "code",
   "execution_count": 10,
   "id": "8aa61ca0",
   "metadata": {
    "execution": {
     "iopub.execute_input": "2025-01-21T23:08:42.726278Z",
     "iopub.status.busy": "2025-01-21T23:08:42.725897Z",
     "iopub.status.idle": "2025-01-21T23:08:42.743477Z",
     "shell.execute_reply": "2025-01-21T23:08:42.742376Z"
    },
    "papermill": {
     "duration": 0.029392,
     "end_time": "2025-01-21T23:08:42.745392",
     "exception": false,
     "start_time": "2025-01-21T23:08:42.716000",
     "status": "completed"
    },
    "tags": []
   },
   "outputs": [
    {
     "data": {
      "text/plain": [
       "Customer ID          200\n",
       "Category              13\n",
       "Item                  48\n",
       "Quantity               5\n",
       "Price Per Unit      7473\n",
       "Total Spent         8382\n",
       "Payment Method         4\n",
       "Location               3\n",
       "Transaction Date     744\n",
       "dtype: int64"
      ]
     },
     "execution_count": 10,
     "metadata": {},
     "output_type": "execute_result"
    }
   ],
   "source": [
    "df.nunique()"
   ]
  },
  {
   "cell_type": "markdown",
   "id": "647215e9",
   "metadata": {
    "papermill": {
     "duration": 0.008739,
     "end_time": "2025-01-21T23:08:42.763471",
     "exception": false,
     "start_time": "2025-01-21T23:08:42.754732",
     "status": "completed"
    },
    "tags": []
   },
   "source": [
    "## Data Cleaning and Preparation\n",
    "What we are gonna do:\n",
    "\n",
    " 1. Which columns are relevant or irrelevant to us?\n",
    "    \n",
    " 2. Do we have duplicates inside our dataset?\n",
    "\n",
    " 3. Handle Missing or null values\n",
    "    \n",
    " 4. Creating Features"
   ]
  },
  {
   "cell_type": "markdown",
   "id": "0c25d618",
   "metadata": {
    "execution": {
     "iopub.execute_input": "2025-01-17T00:42:30.819752Z",
     "iopub.status.busy": "2025-01-17T00:42:30.819381Z",
     "iopub.status.idle": "2025-01-17T00:42:30.827536Z",
     "shell.execute_reply": "2025-01-17T00:42:30.825651Z",
     "shell.execute_reply.started": "2025-01-17T00:42:30.819725Z"
    },
    "papermill": {
     "duration": 0.008659,
     "end_time": "2025-01-21T23:08:42.781202",
     "exception": false,
     "start_time": "2025-01-21T23:08:42.772543",
     "status": "completed"
    },
    "tags": []
   },
   "source": [
    "I will retain the following columns: Category, Quantity, Total Spent, Payment Method, and Location.\n",
    "\n",
    "The following columns will not be used: Customer ID, Item, Price Per Unit, and Transaction Date, for the reasons below:\n",
    "\n",
    "- Customer ID: The specific identification of each customer is not necessary.\n",
    "- Item: The Category column already provides sufficient information about the type of item.\n",
    "- Price Per Unit: We are not interested in the individual unit prices.\n",
    "- Transaction Date: This information is not relevant to our analysis."
   ]
  },
  {
   "cell_type": "code",
   "execution_count": 11,
   "id": "3fdddd9d",
   "metadata": {
    "execution": {
     "iopub.execute_input": "2025-01-21T23:08:42.800883Z",
     "iopub.status.busy": "2025-01-21T23:08:42.800488Z",
     "iopub.status.idle": "2025-01-21T23:08:42.816690Z",
     "shell.execute_reply": "2025-01-21T23:08:42.815422Z"
    },
    "papermill": {
     "duration": 0.028294,
     "end_time": "2025-01-21T23:08:42.818727",
     "exception": false,
     "start_time": "2025-01-21T23:08:42.790433",
     "status": "completed"
    },
    "tags": []
   },
   "outputs": [],
   "source": [
    "df = df[['Customer ID' ,'Category',  'Quantity','Total Spent', 'Payment Method', 'Location']].copy()"
   ]
  },
  {
   "cell_type": "code",
   "execution_count": 12,
   "id": "af02afb8",
   "metadata": {
    "execution": {
     "iopub.execute_input": "2025-01-21T23:08:42.838492Z",
     "iopub.status.busy": "2025-01-21T23:08:42.838081Z",
     "iopub.status.idle": "2025-01-21T23:08:42.851355Z",
     "shell.execute_reply": "2025-01-21T23:08:42.850379Z"
    },
    "papermill": {
     "duration": 0.025133,
     "end_time": "2025-01-21T23:08:42.853188",
     "exception": false,
     "start_time": "2025-01-21T23:08:42.828055",
     "status": "completed"
    },
    "tags": []
   },
   "outputs": [
    {
     "data": {
      "text/html": [
       "<div>\n",
       "<style scoped>\n",
       "    .dataframe tbody tr th:only-of-type {\n",
       "        vertical-align: middle;\n",
       "    }\n",
       "\n",
       "    .dataframe tbody tr th {\n",
       "        vertical-align: top;\n",
       "    }\n",
       "\n",
       "    .dataframe thead th {\n",
       "        text-align: right;\n",
       "    }\n",
       "</style>\n",
       "<table border=\"1\" class=\"dataframe\">\n",
       "  <thead>\n",
       "    <tr style=\"text-align: right;\">\n",
       "      <th></th>\n",
       "      <th>Customer ID</th>\n",
       "      <th>Category</th>\n",
       "      <th>Quantity</th>\n",
       "      <th>Total Spent</th>\n",
       "      <th>Payment Method</th>\n",
       "      <th>Location</th>\n",
       "    </tr>\n",
       "  </thead>\n",
       "  <tbody>\n",
       "    <tr>\n",
       "      <th>0</th>\n",
       "      <td>CUST_0159</td>\n",
       "      <td>Groceries</td>\n",
       "      <td>1</td>\n",
       "      <td>1.28</td>\n",
       "      <td>Debit Card</td>\n",
       "      <td>Mobile App</td>\n",
       "    </tr>\n",
       "    <tr>\n",
       "      <th>1</th>\n",
       "      <td>CUST_0017</td>\n",
       "      <td>Friend Activities</td>\n",
       "      <td>2</td>\n",
       "      <td>149.39</td>\n",
       "      <td>Debit Card</td>\n",
       "      <td>In-store</td>\n",
       "    </tr>\n",
       "    <tr>\n",
       "      <th>2</th>\n",
       "      <td>CUST_0094</td>\n",
       "      <td>Housing and Utilities</td>\n",
       "      <td>1</td>\n",
       "      <td>76.06</td>\n",
       "      <td>Digital Wallet</td>\n",
       "      <td>Mobile App</td>\n",
       "    </tr>\n",
       "    <tr>\n",
       "      <th>3</th>\n",
       "      <td>CUST_0162</td>\n",
       "      <td>Fitness</td>\n",
       "      <td>5</td>\n",
       "      <td>56.18</td>\n",
       "      <td>Cash</td>\n",
       "      <td>In-store</td>\n",
       "    </tr>\n",
       "    <tr>\n",
       "      <th>4</th>\n",
       "      <td>CUST_0129</td>\n",
       "      <td>Gifts</td>\n",
       "      <td>3</td>\n",
       "      <td>131.12</td>\n",
       "      <td>Debit Card</td>\n",
       "      <td>In-store</td>\n",
       "    </tr>\n",
       "  </tbody>\n",
       "</table>\n",
       "</div>"
      ],
      "text/plain": [
       "  Customer ID               Category  Quantity  Total Spent  Payment Method  \\\n",
       "0   CUST_0159              Groceries         1         1.28      Debit Card   \n",
       "1   CUST_0017      Friend Activities         2       149.39      Debit Card   \n",
       "2   CUST_0094  Housing and Utilities         1        76.06  Digital Wallet   \n",
       "3   CUST_0162                Fitness         5        56.18            Cash   \n",
       "4   CUST_0129                  Gifts         3       131.12      Debit Card   \n",
       "\n",
       "     Location  \n",
       "0  Mobile App  \n",
       "1    In-store  \n",
       "2  Mobile App  \n",
       "3    In-store  \n",
       "4    In-store  "
      ]
     },
     "execution_count": 12,
     "metadata": {},
     "output_type": "execute_result"
    }
   ],
   "source": [
    "df.head()"
   ]
  },
  {
   "cell_type": "markdown",
   "id": "6493147c",
   "metadata": {
    "execution": {
     "iopub.execute_input": "2025-01-17T23:05:37.333764Z",
     "iopub.status.busy": "2025-01-17T23:05:37.333305Z",
     "iopub.status.idle": "2025-01-17T23:05:37.340465Z",
     "shell.execute_reply": "2025-01-17T23:05:37.338749Z",
     "shell.execute_reply.started": "2025-01-17T23:05:37.333723Z"
    },
    "papermill": {
     "duration": 0.008994,
     "end_time": "2025-01-21T23:08:42.871683",
     "exception": false,
     "start_time": "2025-01-21T23:08:42.862689",
     "status": "completed"
    },
    "tags": []
   },
   "source": [
    "Much more cleaner, now we can work properly"
   ]
  },
  {
   "cell_type": "markdown",
   "id": "ac06050e",
   "metadata": {
    "papermill": {
     "duration": 0.009532,
     "end_time": "2025-01-21T23:08:42.891203",
     "exception": false,
     "start_time": "2025-01-21T23:08:42.881671",
     "status": "completed"
    },
    "tags": []
   },
   "source": [
    "Duplicated Values"
   ]
  },
  {
   "cell_type": "code",
   "execution_count": 13,
   "id": "b01fdd08",
   "metadata": {
    "execution": {
     "iopub.execute_input": "2025-01-21T23:08:42.912172Z",
     "iopub.status.busy": "2025-01-21T23:08:42.911760Z",
     "iopub.status.idle": "2025-01-21T23:08:42.926168Z",
     "shell.execute_reply": "2025-01-21T23:08:42.924404Z"
    },
    "papermill": {
     "duration": 0.026963,
     "end_time": "2025-01-21T23:08:42.928332",
     "exception": false,
     "start_time": "2025-01-21T23:08:42.901369",
     "status": "completed"
    },
    "tags": []
   },
   "outputs": [
    {
     "name": "stdout",
     "output_type": "stream",
     "text": [
      "Customer ID         0\n",
      "Category            0\n",
      "Quantity            0\n",
      "Total Spent       0.0\n",
      "Payment Method      0\n",
      "Location            0\n",
      "dtype: object\n"
     ]
    }
   ],
   "source": [
    "duplicateRows = df[df.duplicated()]\n",
    "print(duplicateRows.sum())"
   ]
  },
  {
   "cell_type": "markdown",
   "id": "916989aa",
   "metadata": {
    "papermill": {
     "duration": 0.00917,
     "end_time": "2025-01-21T23:08:42.947567",
     "exception": false,
     "start_time": "2025-01-21T23:08:42.938397",
     "status": "completed"
    },
    "tags": []
   },
   "source": [
    "Lets see the null values"
   ]
  },
  {
   "cell_type": "code",
   "execution_count": 14,
   "id": "d5aac93e",
   "metadata": {
    "execution": {
     "iopub.execute_input": "2025-01-21T23:08:42.968980Z",
     "iopub.status.busy": "2025-01-21T23:08:42.968588Z",
     "iopub.status.idle": "2025-01-21T23:08:42.979503Z",
     "shell.execute_reply": "2025-01-21T23:08:42.978391Z"
    },
    "papermill": {
     "duration": 0.024319,
     "end_time": "2025-01-21T23:08:42.981361",
     "exception": false,
     "start_time": "2025-01-21T23:08:42.957042",
     "status": "completed"
    },
    "tags": []
   },
   "outputs": [
    {
     "data": {
      "text/plain": [
       "Customer ID       0\n",
       "Category          0\n",
       "Quantity          0\n",
       "Total Spent       0\n",
       "Payment Method    0\n",
       "Location          0\n",
       "dtype: int64"
      ]
     },
     "execution_count": 14,
     "metadata": {},
     "output_type": "execute_result"
    }
   ],
   "source": [
    "df.isnull().sum()"
   ]
  },
  {
   "cell_type": "markdown",
   "id": "17236627",
   "metadata": {
    "execution": {
     "iopub.execute_input": "2025-01-17T23:05:48.252585Z",
     "iopub.status.busy": "2025-01-17T23:05:48.252241Z",
     "iopub.status.idle": "2025-01-17T23:05:48.258739Z",
     "shell.execute_reply": "2025-01-17T23:05:48.257205Z",
     "shell.execute_reply.started": "2025-01-17T23:05:48.252550Z"
    },
    "papermill": {
     "duration": 0.00914,
     "end_time": "2025-01-21T23:08:43.000158",
     "exception": false,
     "start_time": "2025-01-21T23:08:42.991018",
     "status": "completed"
    },
    "tags": []
   },
   "source": [
    "Endoding categoriacal variables to numerical "
   ]
  },
  {
   "cell_type": "markdown",
   "id": "6019376f",
   "metadata": {
    "papermill": {
     "duration": 0.009018,
     "end_time": "2025-01-21T23:08:43.018737",
     "exception": false,
     "start_time": "2025-01-21T23:08:43.009719",
     "status": "completed"
    },
    "tags": []
   },
   "source": [
    "Which data do we need to label?"
   ]
  },
  {
   "cell_type": "code",
   "execution_count": 15,
   "id": "c7164032",
   "metadata": {
    "execution": {
     "iopub.execute_input": "2025-01-21T23:08:43.038664Z",
     "iopub.status.busy": "2025-01-21T23:08:43.038205Z",
     "iopub.status.idle": "2025-01-21T23:08:43.050539Z",
     "shell.execute_reply": "2025-01-21T23:08:43.049410Z"
    },
    "papermill": {
     "duration": 0.024483,
     "end_time": "2025-01-21T23:08:43.052491",
     "exception": false,
     "start_time": "2025-01-21T23:08:43.028008",
     "status": "completed"
    },
    "tags": []
   },
   "outputs": [
    {
     "data": {
      "text/html": [
       "<div>\n",
       "<style scoped>\n",
       "    .dataframe tbody tr th:only-of-type {\n",
       "        vertical-align: middle;\n",
       "    }\n",
       "\n",
       "    .dataframe tbody tr th {\n",
       "        vertical-align: top;\n",
       "    }\n",
       "\n",
       "    .dataframe thead th {\n",
       "        text-align: right;\n",
       "    }\n",
       "</style>\n",
       "<table border=\"1\" class=\"dataframe\">\n",
       "  <thead>\n",
       "    <tr style=\"text-align: right;\">\n",
       "      <th></th>\n",
       "      <th>Customer ID</th>\n",
       "      <th>Category</th>\n",
       "      <th>Quantity</th>\n",
       "      <th>Total Spent</th>\n",
       "      <th>Payment Method</th>\n",
       "      <th>Location</th>\n",
       "    </tr>\n",
       "  </thead>\n",
       "  <tbody>\n",
       "    <tr>\n",
       "      <th>0</th>\n",
       "      <td>CUST_0159</td>\n",
       "      <td>Groceries</td>\n",
       "      <td>1</td>\n",
       "      <td>1.28</td>\n",
       "      <td>Debit Card</td>\n",
       "      <td>Mobile App</td>\n",
       "    </tr>\n",
       "    <tr>\n",
       "      <th>1</th>\n",
       "      <td>CUST_0017</td>\n",
       "      <td>Friend Activities</td>\n",
       "      <td>2</td>\n",
       "      <td>149.39</td>\n",
       "      <td>Debit Card</td>\n",
       "      <td>In-store</td>\n",
       "    </tr>\n",
       "    <tr>\n",
       "      <th>2</th>\n",
       "      <td>CUST_0094</td>\n",
       "      <td>Housing and Utilities</td>\n",
       "      <td>1</td>\n",
       "      <td>76.06</td>\n",
       "      <td>Digital Wallet</td>\n",
       "      <td>Mobile App</td>\n",
       "    </tr>\n",
       "    <tr>\n",
       "      <th>3</th>\n",
       "      <td>CUST_0162</td>\n",
       "      <td>Fitness</td>\n",
       "      <td>5</td>\n",
       "      <td>56.18</td>\n",
       "      <td>Cash</td>\n",
       "      <td>In-store</td>\n",
       "    </tr>\n",
       "    <tr>\n",
       "      <th>4</th>\n",
       "      <td>CUST_0129</td>\n",
       "      <td>Gifts</td>\n",
       "      <td>3</td>\n",
       "      <td>131.12</td>\n",
       "      <td>Debit Card</td>\n",
       "      <td>In-store</td>\n",
       "    </tr>\n",
       "  </tbody>\n",
       "</table>\n",
       "</div>"
      ],
      "text/plain": [
       "  Customer ID               Category  Quantity  Total Spent  Payment Method  \\\n",
       "0   CUST_0159              Groceries         1         1.28      Debit Card   \n",
       "1   CUST_0017      Friend Activities         2       149.39      Debit Card   \n",
       "2   CUST_0094  Housing and Utilities         1        76.06  Digital Wallet   \n",
       "3   CUST_0162                Fitness         5        56.18            Cash   \n",
       "4   CUST_0129                  Gifts         3       131.12      Debit Card   \n",
       "\n",
       "     Location  \n",
       "0  Mobile App  \n",
       "1    In-store  \n",
       "2  Mobile App  \n",
       "3    In-store  \n",
       "4    In-store  "
      ]
     },
     "execution_count": 15,
     "metadata": {},
     "output_type": "execute_result"
    }
   ],
   "source": [
    "df.head()"
   ]
  },
  {
   "cell_type": "markdown",
   "id": "10963c34",
   "metadata": {
    "papermill": {
     "duration": 0.010193,
     "end_time": "2025-01-21T23:08:43.072804",
     "exception": false,
     "start_time": "2025-01-21T23:08:43.062611",
     "status": "completed"
    },
    "tags": []
   },
   "source": [
    "category, payment method and location are categorical so we need to label them"
   ]
  },
  {
   "cell_type": "code",
   "execution_count": 16,
   "id": "b4dca963",
   "metadata": {
    "execution": {
     "iopub.execute_input": "2025-01-21T23:08:43.094454Z",
     "iopub.status.busy": "2025-01-21T23:08:43.094036Z",
     "iopub.status.idle": "2025-01-21T23:08:43.099454Z",
     "shell.execute_reply": "2025-01-21T23:08:43.098355Z"
    },
    "papermill": {
     "duration": 0.018275,
     "end_time": "2025-01-21T23:08:43.101183",
     "exception": false,
     "start_time": "2025-01-21T23:08:43.082908",
     "status": "completed"
    },
    "tags": []
   },
   "outputs": [],
   "source": [
    "features_label = [ 'Category', 'Payment Method', 'Location']"
   ]
  },
  {
   "cell_type": "code",
   "execution_count": 17,
   "id": "5890f4ff",
   "metadata": {
    "execution": {
     "iopub.execute_input": "2025-01-21T23:08:43.122686Z",
     "iopub.status.busy": "2025-01-21T23:08:43.122320Z",
     "iopub.status.idle": "2025-01-21T23:08:43.130372Z",
     "shell.execute_reply": "2025-01-21T23:08:43.129374Z"
    },
    "papermill": {
     "duration": 0.020368,
     "end_time": "2025-01-21T23:08:43.132116",
     "exception": false,
     "start_time": "2025-01-21T23:08:43.111748",
     "status": "completed"
    },
    "tags": []
   },
   "outputs": [
    {
     "data": {
      "text/plain": [
       "0           Debit Card\n",
       "1           Debit Card\n",
       "2       Digital Wallet\n",
       "3                 Cash\n",
       "4           Debit Card\n",
       "             ...      \n",
       "9995        Debit Card\n",
       "9996        Debit Card\n",
       "9997        Debit Card\n",
       "9998        Debit Card\n",
       "9999       Credit Card\n",
       "Name: Payment Method, Length: 10000, dtype: object"
      ]
     },
     "execution_count": 17,
     "metadata": {},
     "output_type": "execute_result"
    }
   ],
   "source": [
    "df[\"Payment Method\"]"
   ]
  },
  {
   "cell_type": "code",
   "execution_count": 18,
   "id": "64e44fb0",
   "metadata": {
    "execution": {
     "iopub.execute_input": "2025-01-21T23:08:43.153307Z",
     "iopub.status.busy": "2025-01-21T23:08:43.152906Z",
     "iopub.status.idle": "2025-01-21T23:08:43.171931Z",
     "shell.execute_reply": "2025-01-21T23:08:43.169980Z"
    },
    "papermill": {
     "duration": 0.031675,
     "end_time": "2025-01-21T23:08:43.173828",
     "exception": false,
     "start_time": "2025-01-21T23:08:43.142153",
     "status": "completed"
    },
    "tags": []
   },
   "outputs": [
    {
     "name": "stdout",
     "output_type": "stream",
     "text": [
      "Mappings for column 'Category':\n",
      "'Fitness' -> 0\n",
      "'Food' -> 1\n",
      "'Friend Activities' -> 2\n",
      "'Gifts' -> 3\n",
      "'Groceries' -> 4\n",
      "'Hobbies' -> 5\n",
      "'Housing and Utilities' -> 6\n",
      "'Medical/Dental' -> 7\n",
      "'Personal Hygiene' -> 8\n",
      "'Shopping' -> 9\n",
      "'Subscriptions' -> 10\n",
      "'Transportation' -> 11\n",
      "'Travel' -> 12\n",
      "\n",
      "\n",
      "Mappings for column 'Payment Method':\n",
      "'Cash' -> 0\n",
      "'Credit Card' -> 1\n",
      "'Debit Card' -> 2\n",
      "'Digital Wallet' -> 3\n",
      "\n",
      "\n",
      "Mappings for column 'Location':\n",
      "'In-store' -> 0\n",
      "'Mobile App' -> 1\n",
      "'Online' -> 2\n",
      "\n",
      "\n"
     ]
    }
   ],
   "source": [
    "mappings = {}\n",
    "for col in features_label:\n",
    "    label = LabelEncoder()\n",
    "    df[col] = label.fit_transform(df[col])\n",
    "    label_mapping = dict(zip(label.classes_, label.transform(label.classes_)))\n",
    "    mappings[col] = label_mapping\n",
    "\n",
    "for col, label_mapping in mappings.items():\n",
    "    print(f\"Mappings for column '{col}':\")\n",
    "    for original_value, label_value in label_mapping.items():\n",
    "        print(f\"'{original_value}' -> {label_value}\")\n",
    "    print(\"\\n\")\n"
   ]
  },
  {
   "cell_type": "markdown",
   "id": "3c7f53d7",
   "metadata": {
    "papermill": {
     "duration": 0.009435,
     "end_time": "2025-01-21T23:08:43.193341",
     "exception": false,
     "start_time": "2025-01-21T23:08:43.183906",
     "status": "completed"
    },
    "tags": []
   },
   "source": [
    "## Anlysing the data"
   ]
  },
  {
   "cell_type": "markdown",
   "id": "3280efe4",
   "metadata": {
    "papermill": {
     "duration": 0.009458,
     "end_time": "2025-01-21T23:08:43.212642",
     "exception": false,
     "start_time": "2025-01-21T23:08:43.203184",
     "status": "completed"
    },
    "tags": []
   },
   "source": [
    "### 1 - Do people tend to spend more money on subcriptions than their personal higyene?"
   ]
  },
  {
   "cell_type": "markdown",
   "id": "c3f5e327",
   "metadata": {
    "papermill": {
     "duration": 0.010777,
     "end_time": "2025-01-21T23:08:43.233199",
     "exception": false,
     "start_time": "2025-01-21T23:08:43.222422",
     "status": "completed"
    },
    "tags": []
   },
   "source": [
    "As we saw previously:\n",
    "    \n",
    "- 8 Corresponds to Medical and dental\n",
    "  \n",
    "- 10 Corresponds to Subscriptions"
   ]
  },
  {
   "cell_type": "code",
   "execution_count": 19,
   "id": "ba5ea249",
   "metadata": {
    "execution": {
     "iopub.execute_input": "2025-01-21T23:08:43.255704Z",
     "iopub.status.busy": "2025-01-21T23:08:43.255341Z",
     "iopub.status.idle": "2025-01-21T23:08:43.553644Z",
     "shell.execute_reply": "2025-01-21T23:08:43.552328Z"
    },
    "papermill": {
     "duration": 0.312045,
     "end_time": "2025-01-21T23:08:43.555686",
     "exception": false,
     "start_time": "2025-01-21T23:08:43.243641",
     "status": "completed"
    },
    "tags": []
   },
   "outputs": [
    {
     "data": {
      "image/png": "[encoded data removed]",
      "text/plain": [
       "<Figure size 600x600 with 1 Axes>"
      ]
     },
     "metadata": {},
     "output_type": "display_data"
    }
   ],
   "source": [
    "total_in_higyene = df.loc[df[\"Category\"] == 8, \"Total Spent\"].sum()\n",
    "total_in_subs = df.loc[df[\"Category\"] == 10, \"Total Spent\"].sum()\n",
    "plt.figure(figsize=(6, 6))\n",
    "categories = ['_Higyene', 'Subscriptions']\n",
    "values = [total_in_higyene, total_in_subs]\n",
    "colors = ['blue', 'green']\n",
    "plt.bar(categories, values, color=colors, width=0.4, align='center')\n",
    "plt.xlabel('Category')\n",
    "plt.ylabel('Values')\n",
    "plt.title('Bar Plot with Two Variables')\n",
    "plt.legend(['Total in Higyene', 'Total in Subs'])\n",
    "plt.show()\n"
   ]
  },
  {
   "cell_type": "markdown",
   "id": "c9a35bc8",
   "metadata": {
    "papermill": {
     "duration": 0.010041,
     "end_time": "2025-01-21T23:08:43.576394",
     "exception": false,
     "start_time": "2025-01-21T23:08:43.566353",
     "status": "completed"
    },
    "tags": []
   },
   "source": [
    "So our first hypothesys was by far wrong so lets go to the next one"
   ]
  },
  {
   "cell_type": "markdown",
   "id": "dc85b34b",
   "metadata": {
    "papermill": {
     "duration": 0.010148,
     "end_time": "2025-01-21T23:08:43.597175",
     "exception": false,
     "start_time": "2025-01-21T23:08:43.587027",
     "status": "completed"
    },
    "tags": []
   },
   "source": [
    "### 2 - Spending on food surpasses that on personal groceries, False or True?.\n"
   ]
  },
  {
   "cell_type": "markdown",
   "id": "a669f04b",
   "metadata": {
    "papermill": {
     "duration": 0.012039,
     "end_time": "2025-01-21T23:08:43.620114",
     "exception": false,
     "start_time": "2025-01-21T23:08:43.608075",
     "status": "completed"
    },
    "tags": []
   },
   "source": [
    "Food correspond to **1** and Groceries to **4** "
   ]
  },
  {
   "cell_type": "code",
   "execution_count": 20,
   "id": "b96e04c1",
   "metadata": {
    "execution": {
     "iopub.execute_input": "2025-01-21T23:08:43.643526Z",
     "iopub.status.busy": "2025-01-21T23:08:43.643069Z",
     "iopub.status.idle": "2025-01-21T23:08:43.854574Z",
     "shell.execute_reply": "2025-01-21T23:08:43.853244Z"
    },
    "papermill": {
     "duration": 0.225403,
     "end_time": "2025-01-21T23:08:43.856756",
     "exception": false,
     "start_time": "2025-01-21T23:08:43.631353",
     "status": "completed"
    },
    "tags": []
   },
   "outputs": [
    {
     "data": {
      "image/png": "[encoded data removed]",
      "text/plain": [
       "<Figure size 600x600 with 1 Axes>"
      ]
     },
     "metadata": {},
     "output_type": "display_data"
    }
   ],
   "source": [
    "\n",
    "filtered_food = df.loc[df[\"Category\"] == 1, \"Total Spent\"].sum()\n",
    "filtered_groceries = df.loc[df[\"Category\"] == 4, \"Total Spent\"].sum()\n",
    "\n",
    "# Creating a DataFrame with the sums for plotting\n",
    "sums_df = pd.DataFrame({\n",
    "    'Category': ['Food', 'Groceries'],\n",
    "    'Total Spent': [filtered_food, filtered_groceries]\n",
    "})\n",
    "\n",
    "# Plotting\n",
    "plt.figure(figsize=(6, 6))\n",
    "plt.plot(sums_df['Category'], sums_df['Total Spent'], label='Total Spent', marker='o')\n",
    "\n",
    "# Adding labels and title\n",
    "plt.xlabel('Category')\n",
    "plt.ylabel('Total Spent')\n",
    "plt.title('Line Plot of Food vs Groceries')\n",
    "plt.legend()\n",
    "\n",
    "# Show the plot\n",
    "plt.show()\n"
   ]
  },
  {
   "cell_type": "markdown",
   "id": "2b70747b",
   "metadata": {
    "papermill": {
     "duration": 0.011407,
     "end_time": "2025-01-21T23:08:43.880234",
     "exception": false,
     "start_time": "2025-01-21T23:08:43.868827",
     "status": "completed"
    },
    "tags": []
   },
   "source": [
    "### 3 - People often prioritize their overall fitness over their medical or dental health?\n",
    "\n",
    "- Fitness corresponds to 0\n",
    "- Medical/dental correpsonds to 7"
   ]
  },
  {
   "cell_type": "code",
   "execution_count": 21,
   "id": "cb302fc2",
   "metadata": {
    "execution": {
     "iopub.execute_input": "2025-01-21T23:08:43.904953Z",
     "iopub.status.busy": "2025-01-21T23:08:43.904588Z",
     "iopub.status.idle": "2025-01-21T23:08:44.259291Z",
     "shell.execute_reply": "2025-01-21T23:08:44.258192Z"
    },
    "papermill": {
     "duration": 0.369622,
     "end_time": "2025-01-21T23:08:44.261560",
     "exception": false,
     "start_time": "2025-01-21T23:08:43.891938",
     "status": "completed"
    },
    "tags": []
   },
   "outputs": [
    {
     "data": {
      "image/png": "[encoded data removed]",
      "text/plain": [
       "<Figure size 1000x500 with 2 Axes>"
      ]
     },
     "metadata": {},
     "output_type": "display_data"
    }
   ],
   "source": [
    "plt.figure(figsize=(10, 5))\n",
    "labels = [\"Total Spent in Fitness\",\"Total Spent in Medical\"]\n",
    "values =  [\n",
    "    df.loc[df[\"Category\"] == 0, \"Total Spent\"].sum(), \n",
    "           df.loc[df[\"Category\"] == 7, \"Total Spent\"].sum()\n",
    "]\n",
    "\n",
    "plt.subplot(121)\n",
    "plt.pie(\n",
    "    values, \n",
    "    labels=labels, \n",
    "    autopct='%1.1f%%', startangle=90, colors=colors)\n",
    "plt.title(\"Pie Chart\")\n",
    "plt.subplot(122)\n",
    "\n",
    "line = plt.plot(\n",
    "    values, \n",
    "    label='Total Spent', marker='o'\n",
    ")\n",
    "\n",
    "plt.title(\"Line Chart\")\n",
    "plt.xlabel(\"Category Index\")\n",
    "plt.legend()\n",
    "plt.tight_layout() \n",
    "plt.show()\n"
   ]
  },
  {
   "cell_type": "markdown",
   "id": "27d8cb93",
   "metadata": {
    "papermill": {
     "duration": 0.011975,
     "end_time": "2025-01-21T23:08:44.286650",
     "exception": false,
     "start_time": "2025-01-21T23:08:44.274675",
     "status": "completed"
    },
    "tags": []
   },
   "source": [
    "### 4 - Credit cards are the most commonly used payment method?\n",
    "- Credit Card corresponds to 2\n"
   ]
  },
  {
   "cell_type": "code",
   "execution_count": 22,
   "id": "d1bc2523",
   "metadata": {
    "execution": {
     "iopub.execute_input": "2025-01-21T23:08:44.312374Z",
     "iopub.status.busy": "2025-01-21T23:08:44.311962Z",
     "iopub.status.idle": "2025-01-21T23:08:44.322271Z",
     "shell.execute_reply": "2025-01-21T23:08:44.321163Z"
    },
    "papermill": {
     "duration": 0.025293,
     "end_time": "2025-01-21T23:08:44.324207",
     "exception": false,
     "start_time": "2025-01-21T23:08:44.298914",
     "status": "completed"
    },
    "tags": []
   },
   "outputs": [],
   "source": [
    "\n",
    "catg_pay = ['Cash', 'Credit Card', 'Debit Card', 'Digital Wallet']\n",
    "pay_methods = [\n",
    "    len(df.loc[df[\"Payment Method\"] == 0]),  # Cash\n",
    "    len(df.loc[df[\"Payment Method\"] == 1]),  # Credit Card\n",
    "    len(df.loc[df[\"Payment Method\"] == 2]),  # Debit Card\n",
    "    len(df.loc[df[\"Payment Method\"] == 3])   # Digital Wallet\n",
    "]\n",
    "\n",
    "sums_df_pay = pd.DataFrame({\n",
    "    'Payment Method': catg_pay,\n",
    "    'Sum': pay_methods\n",
    "})\n"
   ]
  },
  {
   "cell_type": "code",
   "execution_count": 23,
   "id": "6518f2fc",
   "metadata": {
    "execution": {
     "iopub.execute_input": "2025-01-21T23:08:44.350837Z",
     "iopub.status.busy": "2025-01-21T23:08:44.350359Z",
     "iopub.status.idle": "2025-01-21T23:08:44.626395Z",
     "shell.execute_reply": "2025-01-21T23:08:44.625117Z"
    },
    "papermill": {
     "duration": 0.291683,
     "end_time": "2025-01-21T23:08:44.628599",
     "exception": false,
     "start_time": "2025-01-21T23:08:44.336916",
     "status": "completed"
    },
    "tags": []
   },
   "outputs": [
    {
     "data": {
      "image/png": "[encoded data removed]",
      "text/plain": [
       "<Figure size 1000x600 with 2 Axes>"
      ]
     },
     "metadata": {},
     "output_type": "display_data"
    }
   ],
   "source": [
    "bar_colors = ['blue', 'green', 'coral', 'red', 'pink']\n",
    "plt.figure(figsize=(10, 6))\n",
    "plt.subplots_adjust(wspace=1, hspace=1)\n",
    "\n",
    "plt.subplot(121)\n",
    "ax1 = plt.pie(pay_methods,labels=catg_pay,autopct='%1.1f%%', startangle=90, colors=colors)\n",
    "\n",
    "plt.subplot(122)\n",
    "\n",
    "ax2 = plt.barh(catg_pay, pay_methods, color=bar_colors)\n",
    "max_value = max(values)\n",
    "plt.xlim(0, 2560) \n",
    "\n",
    "for bar in ax2:\n",
    "    # Get the bar width and position for centering the text\n",
    "    width = bar.get_width()\n",
    "    # Place the text at the middle of the bar\n",
    "    plt.text(width / 2, bar.get_y() + bar.get_height() / 2, \n",
    "             str(width), va='center', ha='center', fontsize=10, color='white')\n",
    "\n",
    "plt.tight_layout()\n",
    "# Show plot\n",
    "plt.show()"
   ]
  },
  {
   "cell_type": "markdown",
   "id": "6955b71f",
   "metadata": {
    "papermill": {
     "duration": 0.012852,
     "end_time": "2025-01-21T23:08:44.654850",
     "exception": false,
     "start_time": "2025-01-21T23:08:44.641998",
     "status": "completed"
    },
    "tags": []
   },
   "source": [
    "### 5 - Fewer people visit physical stores nowadays.\n",
    "\n",
    "Phisical Stores corresponds to 0"
   ]
  },
  {
   "cell_type": "code",
   "execution_count": 24,
   "id": "98a9a7e4",
   "metadata": {
    "execution": {
     "iopub.execute_input": "2025-01-21T23:08:44.682279Z",
     "iopub.status.busy": "2025-01-21T23:08:44.681846Z",
     "iopub.status.idle": "2025-01-21T23:08:44.693423Z",
     "shell.execute_reply": "2025-01-21T23:08:44.692114Z"
    },
    "papermill": {
     "duration": 0.027237,
     "end_time": "2025-01-21T23:08:44.695165",
     "exception": false,
     "start_time": "2025-01-21T23:08:44.667928",
     "status": "completed"
    },
    "tags": []
   },
   "outputs": [
    {
     "name": "stdout",
     "output_type": "stream",
     "text": [
      "     Customer ID  Category  Quantity  Total Spent  Payment Method  Location\n",
      "1      CUST_0017         2         2       149.39               2         0\n",
      "3      CUST_0162         0         5        56.18               0         0\n",
      "4      CUST_0129         3         3       131.12               2         0\n",
      "8      CUST_0116        12         1      1011.41               1         0\n",
      "10     CUST_0048         4         3        11.92               3         0\n",
      "...          ...       ...       ...          ...             ...       ...\n",
      "9990   CUST_0071         4         5        92.48               0         0\n",
      "9992   CUST_0089         5         3       133.54               0         0\n",
      "9993   CUST_0020         0         5       385.60               1         0\n",
      "9996   CUST_0150         4         5        77.70               2         0\n",
      "9997   CUST_0122         9         1       732.03               2         0\n",
      "\n",
      "[3387 rows x 6 columns]\n"
     ]
    }
   ],
   "source": [
    "## NUMBER OF PHISICAL STORES\n",
    "total_store = df.loc[df[\"Location\"] == 0]\n",
    "print(total_store)"
   ]
  },
  {
   "cell_type": "code",
   "execution_count": 25,
   "id": "3e49c541",
   "metadata": {
    "execution": {
     "iopub.execute_input": "2025-01-21T23:08:44.723655Z",
     "iopub.status.busy": "2025-01-21T23:08:44.723262Z",
     "iopub.status.idle": "2025-01-21T23:08:44.730684Z",
     "shell.execute_reply": "2025-01-21T23:08:44.729086Z"
    },
    "papermill": {
     "duration": 0.024545,
     "end_time": "2025-01-21T23:08:44.733019",
     "exception": false,
     "start_time": "2025-01-21T23:08:44.708474",
     "status": "completed"
    },
    "tags": []
   },
   "outputs": [],
   "source": [
    "# number of total in-store \n",
    "total_inStore = (df[\"Location\"] == 0).sum() \n",
    "other_loc = (df[\"Location\"] != 0).sum()"
   ]
  },
  {
   "cell_type": "code",
   "execution_count": 26,
   "id": "b59f5d38",
   "metadata": {
    "execution": {
     "iopub.execute_input": "2025-01-21T23:08:44.761970Z",
     "iopub.status.busy": "2025-01-21T23:08:44.761531Z",
     "iopub.status.idle": "2025-01-21T23:08:44.921315Z",
     "shell.execute_reply": "2025-01-21T23:08:44.920091Z"
    },
    "papermill": {
     "duration": 0.176856,
     "end_time": "2025-01-21T23:08:44.923451",
     "exception": false,
     "start_time": "2025-01-21T23:08:44.746595",
     "status": "completed"
    },
    "tags": []
   },
   "outputs": [
    {
     "data": {
      "image/png": "[encoded data removed]",
      "text/plain": [
       "<Figure size 600x600 with 1 Axes>"
      ]
     },
     "metadata": {},
     "output_type": "display_data"
    }
   ],
   "source": [
    "plt.figure(figsize=(6, 6))\n",
    "categories = ['In-Store', 'Other Locations']\n",
    "values = [total_inStore ,other_loc]\n",
    "colors = ['blue', 'green']\n",
    "plt.bar(categories, values, color=colors, width=0.4, align='center')\n",
    "plt.xlabel('Category')\n",
    "plt.ylabel('Values')\n",
    "\n",
    "plt.legend(['Total in In-Store', 'Other Locations'])\n",
    "plt.show()\n"
   ]
  },
  {
   "cell_type": "markdown",
   "id": "5d68937b",
   "metadata": {
    "papermill": {
     "duration": 0.014635,
     "end_time": "2025-01-21T23:08:44.952376",
     "exception": false,
     "start_time": "2025-01-21T23:08:44.937741",
     "status": "completed"
    },
    "tags": []
   },
   "source": [
    "How we could see through this Chart, people do not tend to go to often to Phisycal Stores anymore"
   ]
  }
 ],
 "metadata": {
  "kaggle": {
   "accelerator": "none",
   "dataSources": [
    {
     "datasetId": 6492858,
     "sourceId": 10486617,
     "sourceType": "datasetVersion"
    }
   ],
   "dockerImageVersionId": 30839,
   "isGpuEnabled": false,
   "isInternetEnabled": false,
   "language": "python",
   "sourceType": "notebook"
  },
  "kernelspec": {
   "display_name": "Python 3",
   "language": "python",
   "name": "python3"
  },
  "language_info": {
   "codemirror_mode": {
    "name": "ipython",
    "version": 3
   },
   "file_extension": ".py",
   "mimetype": "text/x-python",
   "name": "python",
   "nbconvert_exporter": "python",
   "pygments_lexer": "ipython3",
   "version": "3.10.12"
  },
  "papermill": {
   "default_parameters": {},
   "duration": 10.923286,
   "end_time": "2025-01-21T23:08:45.793175",
   "environment_variables": {},
   "exception": null,
   "input_path": "__notebook__.ipynb",
   "output_path": "__notebook__.ipynb",
   "parameters": {},
   "start_time": "2025-01-21T23:08:34.869889",
   "version": "2.6.0"
  }
 },
 "nbformat": 4,
 "nbformat_minor": 5
}
